{
 "cells": [
  {
   "cell_type": "code",
   "execution_count": 1,
   "metadata": {
    "_cell_guid": "b1076dfc-b9ad-4769-8c92-a6c4dae69d19",
    "_uuid": "8f2839f25d086af736a60e9eeb907d3b93b6e0e5",
    "execution": {
     "iopub.execute_input": "2021-01-23T16:28:32.151527Z",
     "iopub.status.busy": "2021-01-23T16:28:32.150713Z",
     "iopub.status.idle": "2021-01-23T16:28:32.166947Z",
     "shell.execute_reply": "2021-01-23T16:28:32.168234Z"
    },
    "papermill": {
     "duration": 0.075102,
     "end_time": "2021-01-23T16:28:32.168497",
     "exception": false,
     "start_time": "2021-01-23T16:28:32.093395",
     "status": "completed"
    },
    "tags": []
   },
   "outputs": [
    {
     "name": "stdout",
     "output_type": "stream",
     "text": [
      "/kaggle/input/the-movies-dataset/ratings.csv\n",
      "/kaggle/input/the-movies-dataset/links_small.csv\n",
      "/kaggle/input/the-movies-dataset/credits.csv\n",
      "/kaggle/input/the-movies-dataset/keywords.csv\n",
      "/kaggle/input/the-movies-dataset/movies_metadata.csv\n",
      "/kaggle/input/the-movies-dataset/ratings_small.csv\n",
      "/kaggle/input/the-movies-dataset/links.csv\n"
     ]
    }
   ],
   "source": [
    "# This Python 3 environment comes with many helpful analytics libraries installed\n",
    "# It is defined by the kaggle/python Docker image: https://github.com/kaggle/docker-python\n",
    "# For example, here's several helpful packages to load\n",
    "\n",
    "import numpy as np # linear algebra\n",
    "import pandas as pd # data processing, CSV file I/O (e.g. pd.read_csv)\n",
    "\n",
    "# Input data files are available in the read-only \"../input/\" directory\n",
    "# For example, running this (by clicking run or pressing Shift+Enter) will list all files under the input directory\n",
    "\n",
    "import os\n",
    "for dirname, _, filenames in os.walk('/kaggle/input'):\n",
    "    for filename in filenames:\n",
    "        print(os.path.join(dirname, filename))\n",
    "\n",
    "# You can write up to 20GB to the current directory (/kaggle/working/) that gets preserved as output when you create a version using \"Save & Run All\" \n",
    "# You can also write temporary files to /kaggle/temp/, but they won't be saved outside of the current session"
   ]
  },
  {
   "cell_type": "markdown",
   "metadata": {
    "papermill": {
     "duration": 0.047718,
     "end_time": "2021-01-23T16:28:32.265204",
     "exception": false,
     "start_time": "2021-01-23T16:28:32.217486",
     "status": "completed"
    },
    "tags": []
   },
   "source": [
    "# 1. Import Data"
   ]
  },
  {
   "cell_type": "code",
   "execution_count": 2,
   "metadata": {
    "execution": {
     "iopub.execute_input": "2021-01-23T16:28:32.368853Z",
     "iopub.status.busy": "2021-01-23T16:28:32.368191Z",
     "iopub.status.idle": "2021-01-23T16:28:33.812940Z",
     "shell.execute_reply": "2021-01-23T16:28:33.812265Z"
    },
    "papermill": {
     "duration": 1.499672,
     "end_time": "2021-01-23T16:28:33.813053",
     "exception": false,
     "start_time": "2021-01-23T16:28:32.313381",
     "status": "completed"
    },
    "tags": []
   },
   "outputs": [
    {
     "name": "stdout",
     "output_type": "stream",
     "text": [
      "df_movies is imported. shape = (45466, 24)\n"
     ]
    },
    {
     "name": "stderr",
     "output_type": "stream",
     "text": [
      "/opt/conda/lib/python3.7/site-packages/IPython/core/interactiveshell.py:3063: DtypeWarning: Columns (10) have mixed types.Specify dtype option on import or set low_memory=False.\n",
      "  interactivity=interactivity, compiler=compiler, result=result)\n"
     ]
    }
   ],
   "source": [
    "df_movies = pd.read_csv('/kaggle/input/the-movies-dataset/movies_metadata.csv')\n",
    "print(f'df_movies is imported. shape = {df_movies.shape}')"
   ]
  },
  {
   "cell_type": "markdown",
   "metadata": {
    "papermill": {
     "duration": 0.049064,
     "end_time": "2021-01-23T16:28:33.910959",
     "exception": false,
     "start_time": "2021-01-23T16:28:33.861895",
     "status": "completed"
    },
    "tags": []
   },
   "source": [
    "### df_movies investigation"
   ]
  },
  {
   "cell_type": "code",
   "execution_count": 3,
   "metadata": {
    "execution": {
     "iopub.execute_input": "2021-01-23T16:28:34.114005Z",
     "iopub.status.busy": "2021-01-23T16:28:34.113299Z",
     "iopub.status.idle": "2021-01-23T16:28:34.138748Z",
     "shell.execute_reply": "2021-01-23T16:28:34.139239Z"
    },
    "papermill": {
     "duration": 0.17915,
     "end_time": "2021-01-23T16:28:34.139390",
     "exception": false,
     "start_time": "2021-01-23T16:28:33.960240",
     "status": "completed"
    },
    "tags": []
   },
   "outputs": [
    {
     "name": "stdout",
     "output_type": "stream",
     "text": [
      "<class 'pandas.core.frame.DataFrame'>\n",
      "RangeIndex: 45466 entries, 0 to 45465\n",
      "Data columns (total 24 columns):\n",
      " #   Column                 Non-Null Count  Dtype  \n",
      "---  ------                 --------------  -----  \n",
      " 0   adult                  45466 non-null  object \n",
      " 1   belongs_to_collection  4494 non-null   object \n",
      " 2   budget                 45466 non-null  object \n",
      " 3   genres                 45466 non-null  object \n",
      " 4   homepage               7782 non-null   object \n",
      " 5   id                     45466 non-null  object \n",
      " 6   imdb_id                45449 non-null  object \n",
      " 7   original_language      45455 non-null  object \n",
      " 8   original_title         45466 non-null  object \n",
      " 9   overview               44512 non-null  object \n",
      " 10  popularity             45461 non-null  object \n",
      " 11  poster_path            45080 non-null  object \n",
      " 12  production_companies   45463 non-null  object \n",
      " 13  production_countries   45463 non-null  object \n",
      " 14  release_date           45379 non-null  object \n",
      " 15  revenue                45460 non-null  float64\n",
      " 16  runtime                45203 non-null  float64\n",
      " 17  spoken_languages       45460 non-null  object \n",
      " 18  status                 45379 non-null  object \n",
      " 19  tagline                20412 non-null  object \n",
      " 20  title                  45460 non-null  object \n",
      " 21  video                  45460 non-null  object \n",
      " 22  vote_average           45460 non-null  float64\n",
      " 23  vote_count             45460 non-null  float64\n",
      "dtypes: float64(4), object(20)\n",
      "memory usage: 8.3+ MB\n"
     ]
    }
   ],
   "source": [
    "df_movies.info()"
   ]
  },
  {
   "cell_type": "code",
   "execution_count": 4,
   "metadata": {
    "execution": {
     "iopub.execute_input": "2021-01-23T16:28:34.264980Z",
     "iopub.status.busy": "2021-01-23T16:28:34.260888Z",
     "iopub.status.idle": "2021-01-23T16:28:34.284516Z",
     "shell.execute_reply": "2021-01-23T16:28:34.283842Z"
    },
    "papermill": {
     "duration": 0.095245,
     "end_time": "2021-01-23T16:28:34.284666",
     "exception": false,
     "start_time": "2021-01-23T16:28:34.189421",
     "status": "completed"
    },
    "tags": []
   },
   "outputs": [
    {
     "data": {
      "text/html": [
       "<div>\n",
       "<style scoped>\n",
       "    .dataframe tbody tr th:only-of-type {\n",
       "        vertical-align: middle;\n",
       "    }\n",
       "\n",
       "    .dataframe tbody tr th {\n",
       "        vertical-align: top;\n",
       "    }\n",
       "\n",
       "    .dataframe thead th {\n",
       "        text-align: right;\n",
       "    }\n",
       "</style>\n",
       "<table border=\"1\" class=\"dataframe\">\n",
       "  <thead>\n",
       "    <tr style=\"text-align: right;\">\n",
       "      <th></th>\n",
       "      <th>adult</th>\n",
       "      <th>belongs_to_collection</th>\n",
       "      <th>budget</th>\n",
       "      <th>genres</th>\n",
       "      <th>homepage</th>\n",
       "      <th>id</th>\n",
       "      <th>imdb_id</th>\n",
       "      <th>original_language</th>\n",
       "      <th>original_title</th>\n",
       "      <th>overview</th>\n",
       "      <th>...</th>\n",
       "      <th>release_date</th>\n",
       "      <th>revenue</th>\n",
       "      <th>runtime</th>\n",
       "      <th>spoken_languages</th>\n",
       "      <th>status</th>\n",
       "      <th>tagline</th>\n",
       "      <th>title</th>\n",
       "      <th>video</th>\n",
       "      <th>vote_average</th>\n",
       "      <th>vote_count</th>\n",
       "    </tr>\n",
       "  </thead>\n",
       "  <tbody>\n",
       "    <tr>\n",
       "      <th>0</th>\n",
       "      <td>False</td>\n",
       "      <td>{'id': 10194, 'name': 'Toy Story Collection', ...</td>\n",
       "      <td>30000000</td>\n",
       "      <td>[{'id': 16, 'name': 'Animation'}, {'id': 35, '...</td>\n",
       "      <td>http://toystory.disney.com/toy-story</td>\n",
       "      <td>862</td>\n",
       "      <td>tt0114709</td>\n",
       "      <td>en</td>\n",
       "      <td>Toy Story</td>\n",
       "      <td>Led by Woody, Andy's toys live happily in his ...</td>\n",
       "      <td>...</td>\n",
       "      <td>1995-10-30</td>\n",
       "      <td>373554033.0</td>\n",
       "      <td>81.0</td>\n",
       "      <td>[{'iso_639_1': 'en', 'name': 'English'}]</td>\n",
       "      <td>Released</td>\n",
       "      <td>NaN</td>\n",
       "      <td>Toy Story</td>\n",
       "      <td>False</td>\n",
       "      <td>7.7</td>\n",
       "      <td>5415.0</td>\n",
       "    </tr>\n",
       "    <tr>\n",
       "      <th>1</th>\n",
       "      <td>False</td>\n",
       "      <td>NaN</td>\n",
       "      <td>65000000</td>\n",
       "      <td>[{'id': 12, 'name': 'Adventure'}, {'id': 14, '...</td>\n",
       "      <td>NaN</td>\n",
       "      <td>8844</td>\n",
       "      <td>tt0113497</td>\n",
       "      <td>en</td>\n",
       "      <td>Jumanji</td>\n",
       "      <td>When siblings Judy and Peter discover an encha...</td>\n",
       "      <td>...</td>\n",
       "      <td>1995-12-15</td>\n",
       "      <td>262797249.0</td>\n",
       "      <td>104.0</td>\n",
       "      <td>[{'iso_639_1': 'en', 'name': 'English'}, {'iso...</td>\n",
       "      <td>Released</td>\n",
       "      <td>Roll the dice and unleash the excitement!</td>\n",
       "      <td>Jumanji</td>\n",
       "      <td>False</td>\n",
       "      <td>6.9</td>\n",
       "      <td>2413.0</td>\n",
       "    </tr>\n",
       "    <tr>\n",
       "      <th>2</th>\n",
       "      <td>False</td>\n",
       "      <td>{'id': 119050, 'name': 'Grumpy Old Men Collect...</td>\n",
       "      <td>0</td>\n",
       "      <td>[{'id': 10749, 'name': 'Romance'}, {'id': 35, ...</td>\n",
       "      <td>NaN</td>\n",
       "      <td>15602</td>\n",
       "      <td>tt0113228</td>\n",
       "      <td>en</td>\n",
       "      <td>Grumpier Old Men</td>\n",
       "      <td>A family wedding reignites the ancient feud be...</td>\n",
       "      <td>...</td>\n",
       "      <td>1995-12-22</td>\n",
       "      <td>0.0</td>\n",
       "      <td>101.0</td>\n",
       "      <td>[{'iso_639_1': 'en', 'name': 'English'}]</td>\n",
       "      <td>Released</td>\n",
       "      <td>Still Yelling. Still Fighting. Still Ready for...</td>\n",
       "      <td>Grumpier Old Men</td>\n",
       "      <td>False</td>\n",
       "      <td>6.5</td>\n",
       "      <td>92.0</td>\n",
       "    </tr>\n",
       "    <tr>\n",
       "      <th>3</th>\n",
       "      <td>False</td>\n",
       "      <td>NaN</td>\n",
       "      <td>16000000</td>\n",
       "      <td>[{'id': 35, 'name': 'Comedy'}, {'id': 18, 'nam...</td>\n",
       "      <td>NaN</td>\n",
       "      <td>31357</td>\n",
       "      <td>tt0114885</td>\n",
       "      <td>en</td>\n",
       "      <td>Waiting to Exhale</td>\n",
       "      <td>Cheated on, mistreated and stepped on, the wom...</td>\n",
       "      <td>...</td>\n",
       "      <td>1995-12-22</td>\n",
       "      <td>81452156.0</td>\n",
       "      <td>127.0</td>\n",
       "      <td>[{'iso_639_1': 'en', 'name': 'English'}]</td>\n",
       "      <td>Released</td>\n",
       "      <td>Friends are the people who let you be yourself...</td>\n",
       "      <td>Waiting to Exhale</td>\n",
       "      <td>False</td>\n",
       "      <td>6.1</td>\n",
       "      <td>34.0</td>\n",
       "    </tr>\n",
       "    <tr>\n",
       "      <th>4</th>\n",
       "      <td>False</td>\n",
       "      <td>{'id': 96871, 'name': 'Father of the Bride Col...</td>\n",
       "      <td>0</td>\n",
       "      <td>[{'id': 35, 'name': 'Comedy'}]</td>\n",
       "      <td>NaN</td>\n",
       "      <td>11862</td>\n",
       "      <td>tt0113041</td>\n",
       "      <td>en</td>\n",
       "      <td>Father of the Bride Part II</td>\n",
       "      <td>Just when George Banks has recovered from his ...</td>\n",
       "      <td>...</td>\n",
       "      <td>1995-02-10</td>\n",
       "      <td>76578911.0</td>\n",
       "      <td>106.0</td>\n",
       "      <td>[{'iso_639_1': 'en', 'name': 'English'}]</td>\n",
       "      <td>Released</td>\n",
       "      <td>Just When His World Is Back To Normal... He's ...</td>\n",
       "      <td>Father of the Bride Part II</td>\n",
       "      <td>False</td>\n",
       "      <td>5.7</td>\n",
       "      <td>173.0</td>\n",
       "    </tr>\n",
       "  </tbody>\n",
       "</table>\n",
       "<p>5 rows × 24 columns</p>\n",
       "</div>"
      ],
      "text/plain": [
       "   adult                              belongs_to_collection    budget  \\\n",
       "0  False  {'id': 10194, 'name': 'Toy Story Collection', ...  30000000   \n",
       "1  False                                                NaN  65000000   \n",
       "2  False  {'id': 119050, 'name': 'Grumpy Old Men Collect...         0   \n",
       "3  False                                                NaN  16000000   \n",
       "4  False  {'id': 96871, 'name': 'Father of the Bride Col...         0   \n",
       "\n",
       "                                              genres  \\\n",
       "0  [{'id': 16, 'name': 'Animation'}, {'id': 35, '...   \n",
       "1  [{'id': 12, 'name': 'Adventure'}, {'id': 14, '...   \n",
       "2  [{'id': 10749, 'name': 'Romance'}, {'id': 35, ...   \n",
       "3  [{'id': 35, 'name': 'Comedy'}, {'id': 18, 'nam...   \n",
       "4                     [{'id': 35, 'name': 'Comedy'}]   \n",
       "\n",
       "                               homepage     id    imdb_id original_language  \\\n",
       "0  http://toystory.disney.com/toy-story    862  tt0114709                en   \n",
       "1                                   NaN   8844  tt0113497                en   \n",
       "2                                   NaN  15602  tt0113228                en   \n",
       "3                                   NaN  31357  tt0114885                en   \n",
       "4                                   NaN  11862  tt0113041                en   \n",
       "\n",
       "                original_title  \\\n",
       "0                    Toy Story   \n",
       "1                      Jumanji   \n",
       "2             Grumpier Old Men   \n",
       "3            Waiting to Exhale   \n",
       "4  Father of the Bride Part II   \n",
       "\n",
       "                                            overview  ... release_date  \\\n",
       "0  Led by Woody, Andy's toys live happily in his ...  ...   1995-10-30   \n",
       "1  When siblings Judy and Peter discover an encha...  ...   1995-12-15   \n",
       "2  A family wedding reignites the ancient feud be...  ...   1995-12-22   \n",
       "3  Cheated on, mistreated and stepped on, the wom...  ...   1995-12-22   \n",
       "4  Just when George Banks has recovered from his ...  ...   1995-02-10   \n",
       "\n",
       "       revenue runtime                                   spoken_languages  \\\n",
       "0  373554033.0    81.0           [{'iso_639_1': 'en', 'name': 'English'}]   \n",
       "1  262797249.0   104.0  [{'iso_639_1': 'en', 'name': 'English'}, {'iso...   \n",
       "2          0.0   101.0           [{'iso_639_1': 'en', 'name': 'English'}]   \n",
       "3   81452156.0   127.0           [{'iso_639_1': 'en', 'name': 'English'}]   \n",
       "4   76578911.0   106.0           [{'iso_639_1': 'en', 'name': 'English'}]   \n",
       "\n",
       "     status                                            tagline  \\\n",
       "0  Released                                                NaN   \n",
       "1  Released          Roll the dice and unleash the excitement!   \n",
       "2  Released  Still Yelling. Still Fighting. Still Ready for...   \n",
       "3  Released  Friends are the people who let you be yourself...   \n",
       "4  Released  Just When His World Is Back To Normal... He's ...   \n",
       "\n",
       "                         title  video vote_average vote_count  \n",
       "0                    Toy Story  False          7.7     5415.0  \n",
       "1                      Jumanji  False          6.9     2413.0  \n",
       "2             Grumpier Old Men  False          6.5       92.0  \n",
       "3            Waiting to Exhale  False          6.1       34.0  \n",
       "4  Father of the Bride Part II  False          5.7      173.0  \n",
       "\n",
       "[5 rows x 24 columns]"
      ]
     },
     "execution_count": 4,
     "metadata": {},
     "output_type": "execute_result"
    }
   ],
   "source": [
    "df_movies.head()"
   ]
  },
  {
   "cell_type": "markdown",
   "metadata": {
    "papermill": {
     "duration": 0.050156,
     "end_time": "2021-01-23T16:28:34.385639",
     "exception": false,
     "start_time": "2021-01-23T16:28:34.335483",
     "status": "completed"
    },
    "tags": []
   },
   "source": [
    "### df_movies pre-processing"
   ]
  },
  {
   "cell_type": "code",
   "execution_count": 5,
   "metadata": {
    "execution": {
     "iopub.execute_input": "2021-01-23T16:28:34.496368Z",
     "iopub.status.busy": "2021-01-23T16:28:34.495482Z",
     "iopub.status.idle": "2021-01-23T16:28:34.571398Z",
     "shell.execute_reply": "2021-01-23T16:28:34.570616Z"
    },
    "papermill": {
     "duration": 0.135005,
     "end_time": "2021-01-23T16:28:34.571536",
     "exception": false,
     "start_time": "2021-01-23T16:28:34.436531",
     "status": "completed"
    },
    "tags": []
   },
   "outputs": [],
   "source": [
    "df_movies.dropna(subset=['vote_average', 'vote_count'], inplace=True)\n",
    "df_movies['id'] = df_movies.id.astype('int')"
   ]
  },
  {
   "cell_type": "code",
   "execution_count": 6,
   "metadata": {
    "execution": {
     "iopub.execute_input": "2021-01-23T16:28:34.687030Z",
     "iopub.status.busy": "2021-01-23T16:28:34.686318Z",
     "iopub.status.idle": "2021-01-23T16:28:36.505601Z",
     "shell.execute_reply": "2021-01-23T16:28:36.506174Z"
    },
    "papermill": {
     "duration": 1.883354,
     "end_time": "2021-01-23T16:28:36.506362",
     "exception": false,
     "start_time": "2021-01-23T16:28:34.623008",
     "status": "completed"
    },
    "tags": []
   },
   "outputs": [],
   "source": [
    "# genres column is in string type. Need to transform as string tags.\n",
    "from ast import literal_eval\n",
    "df_movies['genres'] = df_movies['genres'].fillna('[]').apply(literal_eval).apply(lambda x: [x_dict['name'] for x_dict in x])"
   ]
  },
  {
   "cell_type": "markdown",
   "metadata": {
    "papermill": {
     "duration": 0.051308,
     "end_time": "2021-01-23T16:28:36.610412",
     "exception": false,
     "start_time": "2021-01-23T16:28:36.559104",
     "status": "completed"
    },
    "tags": []
   },
   "source": [
    "# 2. Top Movies by votes rating"
   ]
  },
  {
   "cell_type": "code",
   "execution_count": 7,
   "metadata": {
    "execution": {
     "iopub.execute_input": "2021-01-23T16:28:36.717785Z",
     "iopub.status.busy": "2021-01-23T16:28:36.717071Z",
     "iopub.status.idle": "2021-01-23T16:28:38.076884Z",
     "shell.execute_reply": "2021-01-23T16:28:38.076232Z"
    },
    "papermill": {
     "duration": 1.41514,
     "end_time": "2021-01-23T16:28:38.077018",
     "exception": false,
     "start_time": "2021-01-23T16:28:36.661878",
     "status": "completed"
    },
    "tags": []
   },
   "outputs": [
    {
     "data": {
      "image/png": "[encoded data removed]",
      "text/plain": [
       "<Figure size 432x288 with 1 Axes>"
      ]
     },
     "metadata": {
      "needs_background": "light"
     },
     "output_type": "display_data"
    }
   ],
   "source": [
    "import seaborn as sns\n",
    "vote_hist = sns.distplot(df_movies.vote_count)"
   ]
  },
  {
   "cell_type": "markdown",
   "metadata": {
    "papermill": {
     "duration": 0.055056,
     "end_time": "2021-01-23T16:28:38.185188",
     "exception": false,
     "start_time": "2021-01-23T16:28:38.130132",
     "status": "completed"
    },
    "tags": []
   },
   "source": [
    "### Top Movies defined by the trimmed count-weighted vote_average\n",
    "\n",
    "Seems the distribution is skewful - many votes no. is small - not being representative to the movies <br>\n",
    "movies will be trimmed by, says, 95% tile of votes. <br>\n",
    "\n",
    "m is the min vote_count for valid movies <br>\n",
    "for those invalid movies, estimate them as C = overall average vote ratings"
   ]
  },
  {
   "cell_type": "code",
   "execution_count": 8,
   "metadata": {
    "execution": {
     "iopub.execute_input": "2021-01-23T16:28:38.296149Z",
     "iopub.status.busy": "2021-01-23T16:28:38.295464Z",
     "iopub.status.idle": "2021-01-23T16:28:38.299425Z",
     "shell.execute_reply": "2021-01-23T16:28:38.298912Z"
    },
    "papermill": {
     "duration": 0.062321,
     "end_time": "2021-01-23T16:28:38.299537",
     "exception": false,
     "start_time": "2021-01-23T16:28:38.237216",
     "status": "completed"
    },
    "tags": []
   },
   "outputs": [],
   "source": [
    "def weighted_rating(x, m, C):\n",
    "    v = x['vote_count']\n",
    "    R = x['vote_average']\n",
    "    return (v/(v+m) * R) + (m/(v+m) * C)"
   ]
  },
  {
   "cell_type": "code",
   "execution_count": 9,
   "metadata": {
    "execution": {
     "iopub.execute_input": "2021-01-23T16:28:38.406536Z",
     "iopub.status.busy": "2021-01-23T16:28:38.405887Z",
     "iopub.status.idle": "2021-01-23T16:28:38.414194Z",
     "shell.execute_reply": "2021-01-23T16:28:38.414694Z"
    },
    "papermill": {
     "duration": 0.063838,
     "end_time": "2021-01-23T16:28:38.414847",
     "exception": false,
     "start_time": "2021-01-23T16:28:38.351009",
     "status": "completed"
    },
    "tags": []
   },
   "outputs": [],
   "source": [
    "def scoring_df_movies(df_movies, genre=None, quantile=0.95):\n",
    "    if genre is None:\n",
    "        df_movies_scored = df_movies.copy()\n",
    "    else:\n",
    "        df_movies_scored = df_movies[df_movies.genres.apply(lambda x: genre in x)]\n",
    "    \n",
    "    m = df_movies_scored.vote_count.quantile(quantile)\n",
    "    C = df_movies_scored.vote_average.mean()\n",
    "\n",
    "    df_movies_scored.query(f'`vote_count` > {m}', inplace=True)\n",
    "\n",
    "    df_movies_scored['movie_score'] = df_movies_scored.apply(weighted_rating, m=m, C=C, axis=1)\n",
    "    df_movies_scored.sort_values('movie_score', ascending=False, inplace=True)\n",
    "\n",
    "    return df_movies_scored"
   ]
  },
  {
   "cell_type": "markdown",
   "metadata": {
    "papermill": {
     "duration": 0.051508,
     "end_time": "2021-01-23T16:28:38.518007",
     "exception": false,
     "start_time": "2021-01-23T16:28:38.466499",
     "status": "completed"
    },
    "tags": []
   },
   "source": [
    "### Top Movies"
   ]
  },
  {
   "cell_type": "code",
   "execution_count": 10,
   "metadata": {
    "execution": {
     "iopub.execute_input": "2021-01-23T16:28:38.625025Z",
     "iopub.status.busy": "2021-01-23T16:28:38.624360Z",
     "iopub.status.idle": "2021-01-23T16:28:38.749286Z",
     "shell.execute_reply": "2021-01-23T16:28:38.748757Z"
    },
    "papermill": {
     "duration": 0.179609,
     "end_time": "2021-01-23T16:28:38.749414",
     "exception": false,
     "start_time": "2021-01-23T16:28:38.569805",
     "status": "completed"
    },
    "tags": []
   },
   "outputs": [
    {
     "data": {
      "text/html": [
       "<div>\n",
       "<style scoped>\n",
       "    .dataframe tbody tr th:only-of-type {\n",
       "        vertical-align: middle;\n",
       "    }\n",
       "\n",
       "    .dataframe tbody tr th {\n",
       "        vertical-align: top;\n",
       "    }\n",
       "\n",
       "    .dataframe thead th {\n",
       "        text-align: right;\n",
       "    }\n",
       "</style>\n",
       "<table border=\"1\" class=\"dataframe\">\n",
       "  <thead>\n",
       "    <tr style=\"text-align: right;\">\n",
       "      <th></th>\n",
       "      <th>adult</th>\n",
       "      <th>belongs_to_collection</th>\n",
       "      <th>budget</th>\n",
       "      <th>genres</th>\n",
       "      <th>homepage</th>\n",
       "      <th>id</th>\n",
       "      <th>imdb_id</th>\n",
       "      <th>original_language</th>\n",
       "      <th>original_title</th>\n",
       "      <th>overview</th>\n",
       "      <th>...</th>\n",
       "      <th>revenue</th>\n",
       "      <th>runtime</th>\n",
       "      <th>spoken_languages</th>\n",
       "      <th>status</th>\n",
       "      <th>tagline</th>\n",
       "      <th>title</th>\n",
       "      <th>video</th>\n",
       "      <th>vote_average</th>\n",
       "      <th>vote_count</th>\n",
       "      <th>movie_score</th>\n",
       "    </tr>\n",
       "  </thead>\n",
       "  <tbody>\n",
       "    <tr>\n",
       "      <th>314</th>\n",
       "      <td>False</td>\n",
       "      <td>NaN</td>\n",
       "      <td>25000000</td>\n",
       "      <td>[Drama, Crime]</td>\n",
       "      <td>NaN</td>\n",
       "      <td>278</td>\n",
       "      <td>tt0111161</td>\n",
       "      <td>en</td>\n",
       "      <td>The Shawshank Redemption</td>\n",
       "      <td>Framed in the 1940s for the double murder of h...</td>\n",
       "      <td>...</td>\n",
       "      <td>2.834147e+07</td>\n",
       "      <td>142.0</td>\n",
       "      <td>[{'iso_639_1': 'en', 'name': 'English'}]</td>\n",
       "      <td>Released</td>\n",
       "      <td>Fear can hold you prisoner. Hope can set you f...</td>\n",
       "      <td>The Shawshank Redemption</td>\n",
       "      <td>False</td>\n",
       "      <td>8.5</td>\n",
       "      <td>8358.0</td>\n",
       "      <td>8.357746</td>\n",
       "    </tr>\n",
       "    <tr>\n",
       "      <th>834</th>\n",
       "      <td>False</td>\n",
       "      <td>{'id': 230, 'name': 'The Godfather Collection'...</td>\n",
       "      <td>6000000</td>\n",
       "      <td>[Drama, Crime]</td>\n",
       "      <td>http://www.thegodfather.com/</td>\n",
       "      <td>238</td>\n",
       "      <td>tt0068646</td>\n",
       "      <td>en</td>\n",
       "      <td>The Godfather</td>\n",
       "      <td>Spanning the years 1945 to 1955, a chronicle o...</td>\n",
       "      <td>...</td>\n",
       "      <td>2.450664e+08</td>\n",
       "      <td>175.0</td>\n",
       "      <td>[{'iso_639_1': 'en', 'name': 'English'}, {'iso...</td>\n",
       "      <td>Released</td>\n",
       "      <td>An offer you can't refuse.</td>\n",
       "      <td>The Godfather</td>\n",
       "      <td>False</td>\n",
       "      <td>8.5</td>\n",
       "      <td>6024.0</td>\n",
       "      <td>8.306334</td>\n",
       "    </tr>\n",
       "    <tr>\n",
       "      <th>12481</th>\n",
       "      <td>False</td>\n",
       "      <td>{'id': 263, 'name': 'The Dark Knight Collectio...</td>\n",
       "      <td>185000000</td>\n",
       "      <td>[Drama, Action, Crime, Thriller]</td>\n",
       "      <td>http://thedarkknight.warnerbros.com/dvdsite/</td>\n",
       "      <td>155</td>\n",
       "      <td>tt0468569</td>\n",
       "      <td>en</td>\n",
       "      <td>The Dark Knight</td>\n",
       "      <td>Batman raises the stakes in his war on crime. ...</td>\n",
       "      <td>...</td>\n",
       "      <td>1.004558e+09</td>\n",
       "      <td>152.0</td>\n",
       "      <td>[{'iso_639_1': 'en', 'name': 'English'}, {'iso...</td>\n",
       "      <td>Released</td>\n",
       "      <td>Why So Serious?</td>\n",
       "      <td>The Dark Knight</td>\n",
       "      <td>False</td>\n",
       "      <td>8.3</td>\n",
       "      <td>12269.0</td>\n",
       "      <td>8.208376</td>\n",
       "    </tr>\n",
       "    <tr>\n",
       "      <th>2843</th>\n",
       "      <td>False</td>\n",
       "      <td>NaN</td>\n",
       "      <td>63000000</td>\n",
       "      <td>[Drama]</td>\n",
       "      <td>http://www.foxmovies.com/movies/fight-club</td>\n",
       "      <td>550</td>\n",
       "      <td>tt0137523</td>\n",
       "      <td>en</td>\n",
       "      <td>Fight Club</td>\n",
       "      <td>A ticking-time-bomb insomniac and a slippery s...</td>\n",
       "      <td>...</td>\n",
       "      <td>1.008538e+08</td>\n",
       "      <td>139.0</td>\n",
       "      <td>[{'iso_639_1': 'en', 'name': 'English'}]</td>\n",
       "      <td>Released</td>\n",
       "      <td>Mischief. Mayhem. Soap.</td>\n",
       "      <td>Fight Club</td>\n",
       "      <td>False</td>\n",
       "      <td>8.3</td>\n",
       "      <td>9678.0</td>\n",
       "      <td>8.184899</td>\n",
       "    </tr>\n",
       "    <tr>\n",
       "      <th>292</th>\n",
       "      <td>False</td>\n",
       "      <td>NaN</td>\n",
       "      <td>8000000</td>\n",
       "      <td>[Thriller, Crime]</td>\n",
       "      <td>NaN</td>\n",
       "      <td>680</td>\n",
       "      <td>tt0110912</td>\n",
       "      <td>en</td>\n",
       "      <td>Pulp Fiction</td>\n",
       "      <td>A burger-loving hit man, his philosophical par...</td>\n",
       "      <td>...</td>\n",
       "      <td>2.139288e+08</td>\n",
       "      <td>154.0</td>\n",
       "      <td>[{'iso_639_1': 'en', 'name': 'English'}, {'iso...</td>\n",
       "      <td>Released</td>\n",
       "      <td>Just because you are a character doesn't mean ...</td>\n",
       "      <td>Pulp Fiction</td>\n",
       "      <td>False</td>\n",
       "      <td>8.3</td>\n",
       "      <td>8670.0</td>\n",
       "      <td>8.172155</td>\n",
       "    </tr>\n",
       "  </tbody>\n",
       "</table>\n",
       "<p>5 rows × 25 columns</p>\n",
       "</div>"
      ],
      "text/plain": [
       "       adult                              belongs_to_collection     budget  \\\n",
       "314    False                                                NaN   25000000   \n",
       "834    False  {'id': 230, 'name': 'The Godfather Collection'...    6000000   \n",
       "12481  False  {'id': 263, 'name': 'The Dark Knight Collectio...  185000000   \n",
       "2843   False                                                NaN   63000000   \n",
       "292    False                                                NaN    8000000   \n",
       "\n",
       "                                 genres  \\\n",
       "314                      [Drama, Crime]   \n",
       "834                      [Drama, Crime]   \n",
       "12481  [Drama, Action, Crime, Thriller]   \n",
       "2843                            [Drama]   \n",
       "292                   [Thriller, Crime]   \n",
       "\n",
       "                                           homepage   id    imdb_id  \\\n",
       "314                                             NaN  278  tt0111161   \n",
       "834                    http://www.thegodfather.com/  238  tt0068646   \n",
       "12481  http://thedarkknight.warnerbros.com/dvdsite/  155  tt0468569   \n",
       "2843     http://www.foxmovies.com/movies/fight-club  550  tt0137523   \n",
       "292                                             NaN  680  tt0110912   \n",
       "\n",
       "      original_language            original_title  \\\n",
       "314                  en  The Shawshank Redemption   \n",
       "834                  en             The Godfather   \n",
       "12481                en           The Dark Knight   \n",
       "2843                 en                Fight Club   \n",
       "292                  en              Pulp Fiction   \n",
       "\n",
       "                                                overview  ...       revenue  \\\n",
       "314    Framed in the 1940s for the double murder of h...  ...  2.834147e+07   \n",
       "834    Spanning the years 1945 to 1955, a chronicle o...  ...  2.450664e+08   \n",
       "12481  Batman raises the stakes in his war on crime. ...  ...  1.004558e+09   \n",
       "2843   A ticking-time-bomb insomniac and a slippery s...  ...  1.008538e+08   \n",
       "292    A burger-loving hit man, his philosophical par...  ...  2.139288e+08   \n",
       "\n",
       "      runtime                                   spoken_languages    status  \\\n",
       "314     142.0           [{'iso_639_1': 'en', 'name': 'English'}]  Released   \n",
       "834     175.0  [{'iso_639_1': 'en', 'name': 'English'}, {'iso...  Released   \n",
       "12481   152.0  [{'iso_639_1': 'en', 'name': 'English'}, {'iso...  Released   \n",
       "2843    139.0           [{'iso_639_1': 'en', 'name': 'English'}]  Released   \n",
       "292     154.0  [{'iso_639_1': 'en', 'name': 'English'}, {'iso...  Released   \n",
       "\n",
       "                                                 tagline  \\\n",
       "314    Fear can hold you prisoner. Hope can set you f...   \n",
       "834                           An offer you can't refuse.   \n",
       "12481                                    Why So Serious?   \n",
       "2843                             Mischief. Mayhem. Soap.   \n",
       "292    Just because you are a character doesn't mean ...   \n",
       "\n",
       "                          title  video vote_average vote_count movie_score  \n",
       "314    The Shawshank Redemption  False          8.5     8358.0    8.357746  \n",
       "834               The Godfather  False          8.5     6024.0    8.306334  \n",
       "12481           The Dark Knight  False          8.3    12269.0    8.208376  \n",
       "2843                 Fight Club  False          8.3     9678.0    8.184899  \n",
       "292                Pulp Fiction  False          8.3     8670.0    8.172155  \n",
       "\n",
       "[5 rows x 25 columns]"
      ]
     },
     "execution_count": 10,
     "metadata": {},
     "output_type": "execute_result"
    }
   ],
   "source": [
    "scoring_df_movies(df_movies).head(5)"
   ]
  },
  {
   "cell_type": "code",
   "execution_count": 11,
   "metadata": {
    "execution": {
     "iopub.execute_input": "2021-01-23T16:28:38.867509Z",
     "iopub.status.busy": "2021-01-23T16:28:38.862386Z",
     "iopub.status.idle": "2021-01-23T16:28:38.953333Z",
     "shell.execute_reply": "2021-01-23T16:28:38.953881Z"
    },
    "papermill": {
     "duration": 0.150546,
     "end_time": "2021-01-23T16:28:38.954042",
     "exception": false,
     "start_time": "2021-01-23T16:28:38.803496",
     "status": "completed"
    },
    "tags": []
   },
   "outputs": [
    {
     "name": "stderr",
     "output_type": "stream",
     "text": [
      "/opt/conda/lib/python3.7/site-packages/ipykernel_launcher.py:10: SettingWithCopyWarning: \n",
      "A value is trying to be set on a copy of a slice from a DataFrame\n",
      "\n",
      "See the caveats in the documentation: https://pandas.pydata.org/pandas-docs/stable/user_guide/indexing.html#returning-a-view-versus-a-copy\n",
      "  # Remove the CWD from sys.path while we load stuff.\n",
      "/opt/conda/lib/python3.7/site-packages/ipykernel_launcher.py:12: SettingWithCopyWarning: \n",
      "A value is trying to be set on a copy of a slice from a DataFrame.\n",
      "Try using .loc[row_indexer,col_indexer] = value instead\n",
      "\n",
      "See the caveats in the documentation: https://pandas.pydata.org/pandas-docs/stable/user_guide/indexing.html#returning-a-view-versus-a-copy\n",
      "  if sys.path[0] == '':\n",
      "/opt/conda/lib/python3.7/site-packages/ipykernel_launcher.py:13: SettingWithCopyWarning: \n",
      "A value is trying to be set on a copy of a slice from a DataFrame\n",
      "\n",
      "See the caveats in the documentation: https://pandas.pydata.org/pandas-docs/stable/user_guide/indexing.html#returning-a-view-versus-a-copy\n",
      "  del sys.path[0]\n"
     ]
    },
    {
     "data": {
      "text/html": [
       "<div>\n",
       "<style scoped>\n",
       "    .dataframe tbody tr th:only-of-type {\n",
       "        vertical-align: middle;\n",
       "    }\n",
       "\n",
       "    .dataframe tbody tr th {\n",
       "        vertical-align: top;\n",
       "    }\n",
       "\n",
       "    .dataframe thead th {\n",
       "        text-align: right;\n",
       "    }\n",
       "</style>\n",
       "<table border=\"1\" class=\"dataframe\">\n",
       "  <thead>\n",
       "    <tr style=\"text-align: right;\">\n",
       "      <th></th>\n",
       "      <th>adult</th>\n",
       "      <th>belongs_to_collection</th>\n",
       "      <th>budget</th>\n",
       "      <th>genres</th>\n",
       "      <th>homepage</th>\n",
       "      <th>id</th>\n",
       "      <th>imdb_id</th>\n",
       "      <th>original_language</th>\n",
       "      <th>original_title</th>\n",
       "      <th>overview</th>\n",
       "      <th>...</th>\n",
       "      <th>revenue</th>\n",
       "      <th>runtime</th>\n",
       "      <th>spoken_languages</th>\n",
       "      <th>status</th>\n",
       "      <th>tagline</th>\n",
       "      <th>title</th>\n",
       "      <th>video</th>\n",
       "      <th>vote_average</th>\n",
       "      <th>vote_count</th>\n",
       "      <th>movie_score</th>\n",
       "    </tr>\n",
       "  </thead>\n",
       "  <tbody>\n",
       "    <tr>\n",
       "      <th>10309</th>\n",
       "      <td>False</td>\n",
       "      <td>NaN</td>\n",
       "      <td>13200000</td>\n",
       "      <td>[Comedy, Drama, Romance]</td>\n",
       "      <td>NaN</td>\n",
       "      <td>19404</td>\n",
       "      <td>tt0112870</td>\n",
       "      <td>hi</td>\n",
       "      <td>Dilwale Dulhania Le Jayenge</td>\n",
       "      <td>Raj is a rich, carefree, happy-go-lucky second...</td>\n",
       "      <td>...</td>\n",
       "      <td>100000000.0</td>\n",
       "      <td>190.0</td>\n",
       "      <td>[{'iso_639_1': 'hi', 'name': 'हिन्दी'}]</td>\n",
       "      <td>Released</td>\n",
       "      <td>Come... Fall In Love</td>\n",
       "      <td>Dilwale Dulhania Le Jayenge</td>\n",
       "      <td>False</td>\n",
       "      <td>9.1</td>\n",
       "      <td>661.0</td>\n",
       "      <td>8.701372</td>\n",
       "    </tr>\n",
       "    <tr>\n",
       "      <th>40251</th>\n",
       "      <td>False</td>\n",
       "      <td>NaN</td>\n",
       "      <td>0</td>\n",
       "      <td>[Romance, Animation, Drama]</td>\n",
       "      <td>https://www.funimationfilms.com/movie/yourname/</td>\n",
       "      <td>372058</td>\n",
       "      <td>tt5311514</td>\n",
       "      <td>ja</td>\n",
       "      <td>君の名は。</td>\n",
       "      <td>High schoolers Mitsuha and Taki are complete s...</td>\n",
       "      <td>...</td>\n",
       "      <td>355298270.0</td>\n",
       "      <td>106.0</td>\n",
       "      <td>[{'iso_639_1': 'ja', 'name': '日本語'}]</td>\n",
       "      <td>Released</td>\n",
       "      <td>NaN</td>\n",
       "      <td>Your Name.</td>\n",
       "      <td>False</td>\n",
       "      <td>8.5</td>\n",
       "      <td>1030.0</td>\n",
       "      <td>8.281258</td>\n",
       "    </tr>\n",
       "    <tr>\n",
       "      <th>351</th>\n",
       "      <td>False</td>\n",
       "      <td>NaN</td>\n",
       "      <td>55000000</td>\n",
       "      <td>[Comedy, Drama, Romance]</td>\n",
       "      <td>NaN</td>\n",
       "      <td>13</td>\n",
       "      <td>tt0109830</td>\n",
       "      <td>en</td>\n",
       "      <td>Forrest Gump</td>\n",
       "      <td>A man with a low IQ has accomplished great thi...</td>\n",
       "      <td>...</td>\n",
       "      <td>677945399.0</td>\n",
       "      <td>142.0</td>\n",
       "      <td>[{'iso_639_1': 'en', 'name': 'English'}]</td>\n",
       "      <td>Released</td>\n",
       "      <td>The world will never be the same, once you've ...</td>\n",
       "      <td>Forrest Gump</td>\n",
       "      <td>False</td>\n",
       "      <td>8.2</td>\n",
       "      <td>8147.0</td>\n",
       "      <td>8.173547</td>\n",
       "    </tr>\n",
       "    <tr>\n",
       "      <th>1132</th>\n",
       "      <td>False</td>\n",
       "      <td>NaN</td>\n",
       "      <td>0</td>\n",
       "      <td>[Drama, Romance]</td>\n",
       "      <td>NaN</td>\n",
       "      <td>11216</td>\n",
       "      <td>tt0095765</td>\n",
       "      <td>it</td>\n",
       "      <td>Nuovo Cinema Paradiso</td>\n",
       "      <td>A filmmaker recalls his childhood, when he fel...</td>\n",
       "      <td>...</td>\n",
       "      <td>11990401.0</td>\n",
       "      <td>124.0</td>\n",
       "      <td>[{'iso_639_1': 'it', 'name': 'Italiano'}]</td>\n",
       "      <td>Released</td>\n",
       "      <td>A celebration of youth, friendship, and the ev...</td>\n",
       "      <td>Cinema Paradiso</td>\n",
       "      <td>False</td>\n",
       "      <td>8.2</td>\n",
       "      <td>834.0</td>\n",
       "      <td>7.964387</td>\n",
       "    </tr>\n",
       "    <tr>\n",
       "      <th>40882</th>\n",
       "      <td>False</td>\n",
       "      <td>NaN</td>\n",
       "      <td>30000000</td>\n",
       "      <td>[Comedy, Drama, Music, Romance]</td>\n",
       "      <td>http://www.lalaland.movie/</td>\n",
       "      <td>313369</td>\n",
       "      <td>tt3783958</td>\n",
       "      <td>en</td>\n",
       "      <td>La La Land</td>\n",
       "      <td>Mia, an aspiring actress, serves lattes to mov...</td>\n",
       "      <td>...</td>\n",
       "      <td>445435700.0</td>\n",
       "      <td>128.0</td>\n",
       "      <td>[{'iso_639_1': 'en', 'name': 'English'}]</td>\n",
       "      <td>Released</td>\n",
       "      <td>Here's to the fools who dream.</td>\n",
       "      <td>La La Land</td>\n",
       "      <td>False</td>\n",
       "      <td>7.9</td>\n",
       "      <td>4745.0</td>\n",
       "      <td>7.860576</td>\n",
       "    </tr>\n",
       "  </tbody>\n",
       "</table>\n",
       "<p>5 rows × 25 columns</p>\n",
       "</div>"
      ],
      "text/plain": [
       "       adult belongs_to_collection    budget                           genres  \\\n",
       "10309  False                   NaN  13200000         [Comedy, Drama, Romance]   \n",
       "40251  False                   NaN         0      [Romance, Animation, Drama]   \n",
       "351    False                   NaN  55000000         [Comedy, Drama, Romance]   \n",
       "1132   False                   NaN         0                 [Drama, Romance]   \n",
       "40882  False                   NaN  30000000  [Comedy, Drama, Music, Romance]   \n",
       "\n",
       "                                              homepage      id    imdb_id  \\\n",
       "10309                                              NaN   19404  tt0112870   \n",
       "40251  https://www.funimationfilms.com/movie/yourname/  372058  tt5311514   \n",
       "351                                                NaN      13  tt0109830   \n",
       "1132                                               NaN   11216  tt0095765   \n",
       "40882                       http://www.lalaland.movie/  313369  tt3783958   \n",
       "\n",
       "      original_language               original_title  \\\n",
       "10309                hi  Dilwale Dulhania Le Jayenge   \n",
       "40251                ja                        君の名は。   \n",
       "351                  en                 Forrest Gump   \n",
       "1132                 it        Nuovo Cinema Paradiso   \n",
       "40882                en                   La La Land   \n",
       "\n",
       "                                                overview  ...      revenue  \\\n",
       "10309  Raj is a rich, carefree, happy-go-lucky second...  ...  100000000.0   \n",
       "40251  High schoolers Mitsuha and Taki are complete s...  ...  355298270.0   \n",
       "351    A man with a low IQ has accomplished great thi...  ...  677945399.0   \n",
       "1132   A filmmaker recalls his childhood, when he fel...  ...   11990401.0   \n",
       "40882  Mia, an aspiring actress, serves lattes to mov...  ...  445435700.0   \n",
       "\n",
       "      runtime                           spoken_languages    status  \\\n",
       "10309   190.0    [{'iso_639_1': 'hi', 'name': 'हिन्दी'}]  Released   \n",
       "40251   106.0       [{'iso_639_1': 'ja', 'name': '日本語'}]  Released   \n",
       "351     142.0   [{'iso_639_1': 'en', 'name': 'English'}]  Released   \n",
       "1132    124.0  [{'iso_639_1': 'it', 'name': 'Italiano'}]  Released   \n",
       "40882   128.0   [{'iso_639_1': 'en', 'name': 'English'}]  Released   \n",
       "\n",
       "                                                 tagline  \\\n",
       "10309                               Come... Fall In Love   \n",
       "40251                                                NaN   \n",
       "351    The world will never be the same, once you've ...   \n",
       "1132   A celebration of youth, friendship, and the ev...   \n",
       "40882                     Here's to the fools who dream.   \n",
       "\n",
       "                             title  video vote_average vote_count movie_score  \n",
       "10309  Dilwale Dulhania Le Jayenge  False          9.1      661.0    8.701372  \n",
       "40251                   Your Name.  False          8.5     1030.0    8.281258  \n",
       "351                   Forrest Gump  False          8.2     8147.0    8.173547  \n",
       "1132               Cinema Paradiso  False          8.2      834.0    7.964387  \n",
       "40882                   La La Land  False          7.9     4745.0    7.860576  \n",
       "\n",
       "[5 rows x 25 columns]"
      ]
     },
     "execution_count": 11,
     "metadata": {},
     "output_type": "execute_result"
    }
   ],
   "source": [
    "scoring_df_movies(df_movies, genre='Romance', quantile=0.85).head(5)"
   ]
  },
  {
   "cell_type": "markdown",
   "metadata": {
    "papermill": {
     "duration": 0.054566,
     "end_time": "2021-01-23T16:28:39.063520",
     "exception": false,
     "start_time": "2021-01-23T16:28:39.008954",
     "status": "completed"
    },
    "tags": []
   },
   "source": [
    "# 3. Content Based Recommender\n",
    "Given a movie name, output a list of movies"
   ]
  },
  {
   "cell_type": "markdown",
   "metadata": {
    "papermill": {
     "duration": 0.053529,
     "end_time": "2021-01-23T16:28:39.171051",
     "exception": false,
     "start_time": "2021-01-23T16:28:39.117522",
     "status": "completed"
    },
    "tags": []
   },
   "source": [
    "### Use links_small as the base of this demo"
   ]
  },
  {
   "cell_type": "code",
   "execution_count": 12,
   "metadata": {
    "execution": {
     "iopub.execute_input": "2021-01-23T16:28:39.289669Z",
     "iopub.status.busy": "2021-01-23T16:28:39.288917Z",
     "iopub.status.idle": "2021-01-23T16:28:39.325485Z",
     "shell.execute_reply": "2021-01-23T16:28:39.324886Z"
    },
    "papermill": {
     "duration": 0.099652,
     "end_time": "2021-01-23T16:28:39.325637",
     "exception": false,
     "start_time": "2021-01-23T16:28:39.225985",
     "status": "completed"
    },
    "tags": []
   },
   "outputs": [],
   "source": [
    "df_links = pd.read_csv('/kaggle/input/the-movies-dataset/links_small.csv')"
   ]
  },
  {
   "cell_type": "code",
   "execution_count": 13,
   "metadata": {
    "execution": {
     "iopub.execute_input": "2021-01-23T16:28:39.443639Z",
     "iopub.status.busy": "2021-01-23T16:28:39.442940Z",
     "iopub.status.idle": "2021-01-23T16:28:39.448511Z",
     "shell.execute_reply": "2021-01-23T16:28:39.447960Z"
    },
    "papermill": {
     "duration": 0.068751,
     "end_time": "2021-01-23T16:28:39.448658",
     "exception": false,
     "start_time": "2021-01-23T16:28:39.379907",
     "status": "completed"
    },
    "tags": []
   },
   "outputs": [],
   "source": [
    "df_links.dropna(subset=['tmdbId'], inplace=True)\n",
    "df_links['tmdbId'] = df_links['tmdbId'].astype('int')"
   ]
  },
  {
   "cell_type": "code",
   "execution_count": 14,
   "metadata": {
    "execution": {
     "iopub.execute_input": "2021-01-23T16:28:39.567144Z",
     "iopub.status.busy": "2021-01-23T16:28:39.565644Z",
     "iopub.status.idle": "2021-01-23T16:28:39.571197Z",
     "shell.execute_reply": "2021-01-23T16:28:39.570527Z"
    },
    "papermill": {
     "duration": 0.0681,
     "end_time": "2021-01-23T16:28:39.571341",
     "exception": false,
     "start_time": "2021-01-23T16:28:39.503241",
     "status": "completed"
    },
    "tags": []
   },
   "outputs": [
    {
     "data": {
      "text/plain": [
       "0          862\n",
       "1         8844\n",
       "2        15602\n",
       "3        31357\n",
       "4        11862\n",
       "         ...  \n",
       "9120    402672\n",
       "9121    315011\n",
       "9122    391698\n",
       "9123    137608\n",
       "9124    410803\n",
       "Name: tmdbId, Length: 9112, dtype: int64"
      ]
     },
     "execution_count": 14,
     "metadata": {},
     "output_type": "execute_result"
    }
   ],
   "source": [
    "df_links['tmdbId'].astype('int', copy=False)"
   ]
  },
  {
   "cell_type": "code",
   "execution_count": 15,
   "metadata": {
    "execution": {
     "iopub.execute_input": "2021-01-23T16:28:39.694533Z",
     "iopub.status.busy": "2021-01-23T16:28:39.688370Z",
     "iopub.status.idle": "2021-01-23T16:28:39.698384Z",
     "shell.execute_reply": "2021-01-23T16:28:39.697750Z"
    },
    "papermill": {
     "duration": 0.072164,
     "end_time": "2021-01-23T16:28:39.698514",
     "exception": false,
     "start_time": "2021-01-23T16:28:39.626350",
     "status": "completed"
    },
    "tags": []
   },
   "outputs": [
    {
     "name": "stdout",
     "output_type": "stream",
     "text": [
      "<class 'pandas.core.frame.DataFrame'>\n",
      "Int64Index: 9112 entries, 0 to 9124\n",
      "Data columns (total 3 columns):\n",
      " #   Column   Non-Null Count  Dtype\n",
      "---  ------   --------------  -----\n",
      " 0   movieId  9112 non-null   int64\n",
      " 1   imdbId   9112 non-null   int64\n",
      " 2   tmdbId   9112 non-null   int64\n",
      "dtypes: int64(3)\n",
      "memory usage: 284.8 KB\n"
     ]
    }
   ],
   "source": [
    "df_links.info()"
   ]
  },
  {
   "cell_type": "code",
   "execution_count": 16,
   "metadata": {
    "execution": {
     "iopub.execute_input": "2021-01-23T16:28:39.817685Z",
     "iopub.status.busy": "2021-01-23T16:28:39.816970Z",
     "iopub.status.idle": "2021-01-23T16:28:39.826685Z",
     "shell.execute_reply": "2021-01-23T16:28:39.826108Z"
    },
    "papermill": {
     "duration": 0.072791,
     "end_time": "2021-01-23T16:28:39.826820",
     "exception": false,
     "start_time": "2021-01-23T16:28:39.754029",
     "status": "completed"
    },
    "tags": []
   },
   "outputs": [],
   "source": [
    "# df_movies is trimmed as df_links_small used\n",
    "df_movies_small = df_movies[df_movies.id.isin(df_links.tmdbId)]"
   ]
  },
  {
   "cell_type": "code",
   "execution_count": 17,
   "metadata": {
    "execution": {
     "iopub.execute_input": "2021-01-23T16:28:39.964165Z",
     "iopub.status.busy": "2021-01-23T16:28:39.963404Z",
     "iopub.status.idle": "2021-01-23T16:28:39.976859Z",
     "shell.execute_reply": "2021-01-23T16:28:39.975911Z"
    },
    "papermill": {
     "duration": 0.094763,
     "end_time": "2021-01-23T16:28:39.977042",
     "exception": false,
     "start_time": "2021-01-23T16:28:39.882279",
     "status": "completed"
    },
    "tags": []
   },
   "outputs": [
    {
     "name": "stdout",
     "output_type": "stream",
     "text": [
      "<class 'pandas.core.frame.DataFrame'>\n",
      "Int64Index: 9099 entries, 0 to 45265\n",
      "Data columns (total 24 columns):\n",
      " #   Column                 Non-Null Count  Dtype  \n",
      "---  ------                 --------------  -----  \n",
      " 0   adult                  9099 non-null   object \n",
      " 1   belongs_to_collection  1674 non-null   object \n",
      " 2   budget                 9099 non-null   object \n",
      " 3   genres                 9099 non-null   object \n",
      " 4   homepage               1974 non-null   object \n",
      " 5   id                     9099 non-null   int64  \n",
      " 6   imdb_id                9099 non-null   object \n",
      " 7   original_language      9099 non-null   object \n",
      " 8   original_title         9099 non-null   object \n",
      " 9   overview               9087 non-null   object \n",
      " 10  popularity             9099 non-null   object \n",
      " 11  poster_path            9096 non-null   object \n",
      " 12  production_companies   9099 non-null   object \n",
      " 13  production_countries   9099 non-null   object \n",
      " 14  release_date           9099 non-null   object \n",
      " 15  revenue                9099 non-null   float64\n",
      " 16  runtime                9099 non-null   float64\n",
      " 17  spoken_languages       9099 non-null   object \n",
      " 18  status                 9097 non-null   object \n",
      " 19  tagline                7033 non-null   object \n",
      " 20  title                  9099 non-null   object \n",
      " 21  video                  9099 non-null   object \n",
      " 22  vote_average           9099 non-null   float64\n",
      " 23  vote_count             9099 non-null   float64\n",
      "dtypes: float64(4), int64(1), object(19)\n",
      "memory usage: 1.7+ MB\n"
     ]
    }
   ],
   "source": [
    "df_movies_small.info()"
   ]
  },
  {
   "cell_type": "markdown",
   "metadata": {
    "papermill": {
     "duration": 0.0559,
     "end_time": "2021-01-23T16:28:40.091014",
     "exception": false,
     "start_time": "2021-01-23T16:28:40.035114",
     "status": "completed"
    },
    "tags": []
   },
   "source": [
    "### 3.1 Movie Description Based Recommender"
   ]
  },
  {
   "cell_type": "code",
   "execution_count": 18,
   "metadata": {
    "execution": {
     "iopub.execute_input": "2021-01-23T16:28:40.217248Z",
     "iopub.status.busy": "2021-01-23T16:28:40.212706Z",
     "iopub.status.idle": "2021-01-23T16:28:40.229757Z",
     "shell.execute_reply": "2021-01-23T16:28:40.229063Z"
    },
    "papermill": {
     "duration": 0.082458,
     "end_time": "2021-01-23T16:28:40.229882",
     "exception": false,
     "start_time": "2021-01-23T16:28:40.147424",
     "status": "completed"
    },
    "tags": []
   },
   "outputs": [
    {
     "name": "stderr",
     "output_type": "stream",
     "text": [
      "/opt/conda/lib/python3.7/site-packages/ipykernel_launcher.py:3: SettingWithCopyWarning: \n",
      "A value is trying to be set on a copy of a slice from a DataFrame.\n",
      "Try using .loc[row_indexer,col_indexer] = value instead\n",
      "\n",
      "See the caveats in the documentation: https://pandas.pydata.org/pandas-docs/stable/user_guide/indexing.html#returning-a-view-versus-a-copy\n",
      "  This is separate from the ipykernel package so we can avoid doing imports until\n",
      "/opt/conda/lib/python3.7/site-packages/ipykernel_launcher.py:4: SettingWithCopyWarning: \n",
      "A value is trying to be set on a copy of a slice from a DataFrame.\n",
      "Try using .loc[row_indexer,col_indexer] = value instead\n",
      "\n",
      "See the caveats in the documentation: https://pandas.pydata.org/pandas-docs/stable/user_guide/indexing.html#returning-a-view-versus-a-copy\n",
      "  after removing the cwd from sys.path.\n"
     ]
    }
   ],
   "source": [
    "# Preprocess for \"Description\"\n",
    "\n",
    "df_movies_small['tagline'] = df_movies_small['tagline'].fillna('')\n",
    "df_movies_small['description'] = (df_movies_small['overview'] + df_movies_small['tagline']).fillna('')"
   ]
  },
  {
   "cell_type": "code",
   "execution_count": 19,
   "metadata": {
    "execution": {
     "iopub.execute_input": "2021-01-23T16:28:40.350940Z",
     "iopub.status.busy": "2021-01-23T16:28:40.350191Z",
     "iopub.status.idle": "2021-01-23T16:28:40.355748Z",
     "shell.execute_reply": "2021-01-23T16:28:40.355164Z"
    },
    "papermill": {
     "duration": 0.069127,
     "end_time": "2021-01-23T16:28:40.355863",
     "exception": false,
     "start_time": "2021-01-23T16:28:40.286736",
     "status": "completed"
    },
    "tags": []
   },
   "outputs": [
    {
     "data": {
      "text/plain": [
       "0    Led by Woody, Andy's toys live happily in his ...\n",
       "1    When siblings Judy and Peter discover an encha...\n",
       "2    A family wedding reignites the ancient feud be...\n",
       "3    Cheated on, mistreated and stepped on, the wom...\n",
       "4    Just when George Banks has recovered from his ...\n",
       "Name: description, dtype: object"
      ]
     },
     "execution_count": 19,
     "metadata": {},
     "output_type": "execute_result"
    }
   ],
   "source": [
    "df_movies_small['description'].head()"
   ]
  },
  {
   "cell_type": "markdown",
   "metadata": {
    "papermill": {
     "duration": 0.056464,
     "end_time": "2021-01-23T16:28:40.469464",
     "exception": false,
     "start_time": "2021-01-23T16:28:40.413000",
     "status": "completed"
    },
    "tags": []
   },
   "source": [
    "### Embedding Description using TFIDF"
   ]
  },
  {
   "cell_type": "code",
   "execution_count": 20,
   "metadata": {
    "execution": {
     "iopub.execute_input": "2021-01-23T16:28:40.590196Z",
     "iopub.status.busy": "2021-01-23T16:28:40.589508Z",
     "iopub.status.idle": "2021-01-23T16:28:43.396800Z",
     "shell.execute_reply": "2021-01-23T16:28:43.397333Z"
    },
    "papermill": {
     "duration": 2.871363,
     "end_time": "2021-01-23T16:28:43.397475",
     "exception": false,
     "start_time": "2021-01-23T16:28:40.526112",
     "status": "completed"
    },
    "tags": []
   },
   "outputs": [
    {
     "name": "stdout",
     "output_type": "stream",
     "text": [
      "(9099, 268124)\n"
     ]
    }
   ],
   "source": [
    "from sklearn.feature_extraction.text import TfidfVectorizer\n",
    "\n",
    "tfidfer = TfidfVectorizer(analyzer='word',ngram_range=(1, 2),min_df=0, stop_words='english')\n",
    "tfidf_matrix = tfidfer.fit_transform(df_movies_small.description)\n",
    "\n",
    "print(tfidf_matrix.shape)"
   ]
  },
  {
   "cell_type": "markdown",
   "metadata": {
    "papermill": {
     "duration": 0.056573,
     "end_time": "2021-01-23T16:28:43.511478",
     "exception": false,
     "start_time": "2021-01-23T16:28:43.454905",
     "status": "completed"
    },
    "tags": []
   },
   "source": [
    "### Movies Relationship Score - Linear Kernel\n",
    "We can use cosine sim, or easier: Linear Kernel. [Link](https://scikit-learn.org/stable/modules/metrics.html#)"
   ]
  },
  {
   "cell_type": "code",
   "execution_count": 21,
   "metadata": {
    "execution": {
     "iopub.execute_input": "2021-01-23T16:28:43.632159Z",
     "iopub.status.busy": "2021-01-23T16:28:43.631492Z",
     "iopub.status.idle": "2021-01-23T16:28:45.568965Z",
     "shell.execute_reply": "2021-01-23T16:28:45.568326Z"
    },
    "papermill": {
     "duration": 2.000238,
     "end_time": "2021-01-23T16:28:45.569088",
     "exception": false,
     "start_time": "2021-01-23T16:28:43.568850",
     "status": "completed"
    },
    "tags": []
   },
   "outputs": [
    {
     "name": "stdout",
     "output_type": "stream",
     "text": [
      "(9099, 9099)\n"
     ]
    }
   ],
   "source": [
    "from sklearn.metrics.pairwise import linear_kernel, cosine_similarity\n",
    "\n",
    "# movies_rel_scores = linear_kernel(tfidf_matrix, tfidf_matrix)\n",
    "movies_rel_scores = cosine_similarity(tfidf_matrix, tfidf_matrix)\n",
    "print(movies_rel_scores.shape)"
   ]
  },
  {
   "cell_type": "code",
   "execution_count": 22,
   "metadata": {
    "execution": {
     "iopub.execute_input": "2021-01-23T16:28:45.694538Z",
     "iopub.status.busy": "2021-01-23T16:28:45.693871Z",
     "iopub.status.idle": "2021-01-23T16:28:45.696894Z",
     "shell.execute_reply": "2021-01-23T16:28:45.697426Z"
    },
    "papermill": {
     "duration": 0.07038,
     "end_time": "2021-01-23T16:28:45.697602",
     "exception": false,
     "start_time": "2021-01-23T16:28:45.627222",
     "status": "completed"
    },
    "tags": []
   },
   "outputs": [],
   "source": [
    "def get_recommendations(title, df_movies_small, movies_rel_scores):\n",
    "    df_movies_small = df_movies_small.reset_index()\n",
    "    indices = pd.Series(df_movies_small.index, index=df_movies_small.title)\n",
    "    idx = indices[title]\n",
    "    df_sim_scores = pd.DataFrame(list(enumerate(movies_rel_scores[idx])), columns=['movie_index', 'movie_score']) \\\n",
    "        .sort_values('movie_score', ascending=False).iloc[1:,]\n",
    "    return pd.concat([df_movies_small.title.iloc[df_sim_scores.movie_index], df_sim_scores], axis=1)"
   ]
  },
  {
   "cell_type": "code",
   "execution_count": 23,
   "metadata": {
    "execution": {
     "iopub.execute_input": "2021-01-23T16:28:45.824924Z",
     "iopub.status.busy": "2021-01-23T16:28:45.824180Z",
     "iopub.status.idle": "2021-01-23T16:28:45.871906Z",
     "shell.execute_reply": "2021-01-23T16:28:45.871223Z"
    },
    "papermill": {
     "duration": 0.113421,
     "end_time": "2021-01-23T16:28:45.872042",
     "exception": false,
     "start_time": "2021-01-23T16:28:45.758621",
     "status": "completed"
    },
    "tags": []
   },
   "outputs": [
    {
     "data": {
      "text/html": [
       "<div>\n",
       "<style scoped>\n",
       "    .dataframe tbody tr th:only-of-type {\n",
       "        vertical-align: middle;\n",
       "    }\n",
       "\n",
       "    .dataframe tbody tr th {\n",
       "        vertical-align: top;\n",
       "    }\n",
       "\n",
       "    .dataframe thead th {\n",
       "        text-align: right;\n",
       "    }\n",
       "</style>\n",
       "<table border=\"1\" class=\"dataframe\">\n",
       "  <thead>\n",
       "    <tr style=\"text-align: right;\">\n",
       "      <th></th>\n",
       "      <th>title</th>\n",
       "      <th>movie_index</th>\n",
       "      <th>movie_score</th>\n",
       "    </tr>\n",
       "  </thead>\n",
       "  <tbody>\n",
       "    <tr>\n",
       "      <th>973</th>\n",
       "      <td>The Godfather: Part II</td>\n",
       "      <td>973</td>\n",
       "      <td>0.220060</td>\n",
       "    </tr>\n",
       "    <tr>\n",
       "      <th>8387</th>\n",
       "      <td>The Family</td>\n",
       "      <td>8387</td>\n",
       "      <td>0.100294</td>\n",
       "    </tr>\n",
       "    <tr>\n",
       "      <th>3509</th>\n",
       "      <td>Made</td>\n",
       "      <td>3509</td>\n",
       "      <td>0.067618</td>\n",
       "    </tr>\n",
       "    <tr>\n",
       "      <th>4196</th>\n",
       "      <td>Johnny Dangerously</td>\n",
       "      <td>4196</td>\n",
       "      <td>0.065622</td>\n",
       "    </tr>\n",
       "    <tr>\n",
       "      <th>29</th>\n",
       "      <td>Shanghai Triad</td>\n",
       "      <td>29</td>\n",
       "      <td>0.056142</td>\n",
       "    </tr>\n",
       "    <tr>\n",
       "      <th>5667</th>\n",
       "      <td>Fury</td>\n",
       "      <td>5667</td>\n",
       "      <td>0.056028</td>\n",
       "    </tr>\n",
       "    <tr>\n",
       "      <th>2412</th>\n",
       "      <td>American Movie</td>\n",
       "      <td>2412</td>\n",
       "      <td>0.055023</td>\n",
       "    </tr>\n",
       "    <tr>\n",
       "      <th>1582</th>\n",
       "      <td>The Godfather: Part III</td>\n",
       "      <td>1582</td>\n",
       "      <td>0.050235</td>\n",
       "    </tr>\n",
       "    <tr>\n",
       "      <th>4221</th>\n",
       "      <td>8 Women</td>\n",
       "      <td>4221</td>\n",
       "      <td>0.047508</td>\n",
       "    </tr>\n",
       "    <tr>\n",
       "      <th>2159</th>\n",
       "      <td>Summer of Sam</td>\n",
       "      <td>2159</td>\n",
       "      <td>0.045952</td>\n",
       "    </tr>\n",
       "  </tbody>\n",
       "</table>\n",
       "</div>"
      ],
      "text/plain": [
       "                        title  movie_index  movie_score\n",
       "973    The Godfather: Part II          973     0.220060\n",
       "8387               The Family         8387     0.100294\n",
       "3509                     Made         3509     0.067618\n",
       "4196       Johnny Dangerously         4196     0.065622\n",
       "29             Shanghai Triad           29     0.056142\n",
       "5667                     Fury         5667     0.056028\n",
       "2412           American Movie         2412     0.055023\n",
       "1582  The Godfather: Part III         1582     0.050235\n",
       "4221                  8 Women         4221     0.047508\n",
       "2159            Summer of Sam         2159     0.045952"
      ]
     },
     "execution_count": 23,
     "metadata": {},
     "output_type": "execute_result"
    }
   ],
   "source": [
    "get_recommendations('The Godfather', df_movies_small, movies_rel_scores).head(10)"
   ]
  },
  {
   "cell_type": "code",
   "execution_count": 24,
   "metadata": {
    "execution": {
     "iopub.execute_input": "2021-01-23T16:28:45.997028Z",
     "iopub.status.busy": "2021-01-23T16:28:45.996295Z",
     "iopub.status.idle": "2021-01-23T16:28:46.035605Z",
     "shell.execute_reply": "2021-01-23T16:28:46.034933Z"
    },
    "papermill": {
     "duration": 0.104054,
     "end_time": "2021-01-23T16:28:46.035745",
     "exception": false,
     "start_time": "2021-01-23T16:28:45.931691",
     "status": "completed"
    },
    "tags": []
   },
   "outputs": [
    {
     "data": {
      "text/html": [
       "<div>\n",
       "<style scoped>\n",
       "    .dataframe tbody tr th:only-of-type {\n",
       "        vertical-align: middle;\n",
       "    }\n",
       "\n",
       "    .dataframe tbody tr th {\n",
       "        vertical-align: top;\n",
       "    }\n",
       "\n",
       "    .dataframe thead th {\n",
       "        text-align: right;\n",
       "    }\n",
       "</style>\n",
       "<table border=\"1\" class=\"dataframe\">\n",
       "  <thead>\n",
       "    <tr style=\"text-align: right;\">\n",
       "      <th></th>\n",
       "      <th>title</th>\n",
       "      <th>movie_index</th>\n",
       "      <th>movie_score</th>\n",
       "    </tr>\n",
       "  </thead>\n",
       "  <tbody>\n",
       "    <tr>\n",
       "      <th>7931</th>\n",
       "      <td>The Dark Knight Rises</td>\n",
       "      <td>7931</td>\n",
       "      <td>0.171374</td>\n",
       "    </tr>\n",
       "    <tr>\n",
       "      <th>132</th>\n",
       "      <td>Batman Forever</td>\n",
       "      <td>132</td>\n",
       "      <td>0.122444</td>\n",
       "    </tr>\n",
       "    <tr>\n",
       "      <th>1113</th>\n",
       "      <td>Batman Returns</td>\n",
       "      <td>1113</td>\n",
       "      <td>0.100890</td>\n",
       "    </tr>\n",
       "    <tr>\n",
       "      <th>8227</th>\n",
       "      <td>Batman: The Dark Knight Returns, Part 2</td>\n",
       "      <td>8227</td>\n",
       "      <td>0.084762</td>\n",
       "    </tr>\n",
       "    <tr>\n",
       "      <th>7565</th>\n",
       "      <td>Batman: Under the Red Hood</td>\n",
       "      <td>7565</td>\n",
       "      <td>0.084197</td>\n",
       "    </tr>\n",
       "    <tr>\n",
       "      <th>524</th>\n",
       "      <td>Batman</td>\n",
       "      <td>524</td>\n",
       "      <td>0.081623</td>\n",
       "    </tr>\n",
       "    <tr>\n",
       "      <th>7901</th>\n",
       "      <td>Batman: Year One</td>\n",
       "      <td>7901</td>\n",
       "      <td>0.077807</td>\n",
       "    </tr>\n",
       "    <tr>\n",
       "      <th>2579</th>\n",
       "      <td>Batman: Mask of the Phantasm</td>\n",
       "      <td>2579</td>\n",
       "      <td>0.069629</td>\n",
       "    </tr>\n",
       "    <tr>\n",
       "      <th>2696</th>\n",
       "      <td>JFK</td>\n",
       "      <td>2696</td>\n",
       "      <td>0.061759</td>\n",
       "    </tr>\n",
       "    <tr>\n",
       "      <th>8165</th>\n",
       "      <td>Batman: The Dark Knight Returns, Part 1</td>\n",
       "      <td>8165</td>\n",
       "      <td>0.060949</td>\n",
       "    </tr>\n",
       "  </tbody>\n",
       "</table>\n",
       "</div>"
      ],
      "text/plain": [
       "                                        title  movie_index  movie_score\n",
       "7931                    The Dark Knight Rises         7931     0.171374\n",
       "132                            Batman Forever          132     0.122444\n",
       "1113                           Batman Returns         1113     0.100890\n",
       "8227  Batman: The Dark Knight Returns, Part 2         8227     0.084762\n",
       "7565               Batman: Under the Red Hood         7565     0.084197\n",
       "524                                    Batman          524     0.081623\n",
       "7901                         Batman: Year One         7901     0.077807\n",
       "2579             Batman: Mask of the Phantasm         2579     0.069629\n",
       "2696                                      JFK         2696     0.061759\n",
       "8165  Batman: The Dark Knight Returns, Part 1         8165     0.060949"
      ]
     },
     "execution_count": 24,
     "metadata": {},
     "output_type": "execute_result"
    }
   ],
   "source": [
    "get_recommendations('The Dark Knight', df_movies_small, movies_rel_scores).head(10)"
   ]
  },
  {
   "cell_type": "markdown",
   "metadata": {
    "papermill": {
     "duration": 0.060242,
     "end_time": "2021-01-23T16:28:46.156527",
     "exception": false,
     "start_time": "2021-01-23T16:28:46.096285",
     "status": "completed"
    },
    "tags": []
   },
   "source": [
    "### 3.2 Metadata Based Recommender"
   ]
  },
  {
   "cell_type": "markdown",
   "metadata": {
    "papermill": {
     "duration": 0.05946,
     "end_time": "2021-01-23T16:28:46.276079",
     "exception": false,
     "start_time": "2021-01-23T16:28:46.216619",
     "status": "completed"
    },
    "tags": []
   },
   "source": [
    "Merging Credits and Keywords into Movies dataset"
   ]
  },
  {
   "cell_type": "code",
   "execution_count": 25,
   "metadata": {
    "execution": {
     "iopub.execute_input": "2021-01-23T16:28:46.398858Z",
     "iopub.status.busy": "2021-01-23T16:28:46.398222Z",
     "iopub.status.idle": "2021-01-23T16:28:51.820798Z",
     "shell.execute_reply": "2021-01-23T16:28:51.819245Z"
    },
    "papermill": {
     "duration": 5.485144,
     "end_time": "2021-01-23T16:28:51.820927",
     "exception": false,
     "start_time": "2021-01-23T16:28:46.335783",
     "status": "completed"
    },
    "tags": []
   },
   "outputs": [],
   "source": [
    "df_credits = pd.read_csv('/kaggle/input/the-movies-dataset/credits.csv')\n",
    "df_keywords = pd.read_csv('/kaggle/input/the-movies-dataset/keywords.csv')"
   ]
  },
  {
   "cell_type": "code",
   "execution_count": 26,
   "metadata": {
    "execution": {
     "iopub.execute_input": "2021-01-23T16:28:51.960792Z",
     "iopub.status.busy": "2021-01-23T16:28:51.959790Z",
     "iopub.status.idle": "2021-01-23T16:28:51.971454Z",
     "shell.execute_reply": "2021-01-23T16:28:51.970915Z"
    },
    "papermill": {
     "duration": 0.091217,
     "end_time": "2021-01-23T16:28:51.971588",
     "exception": false,
     "start_time": "2021-01-23T16:28:51.880371",
     "status": "completed"
    },
    "tags": []
   },
   "outputs": [
    {
     "name": "stdout",
     "output_type": "stream",
     "text": [
      "<class 'pandas.core.frame.DataFrame'>\n",
      "RangeIndex: 45476 entries, 0 to 45475\n",
      "Data columns (total 3 columns):\n",
      " #   Column  Non-Null Count  Dtype \n",
      "---  ------  --------------  ----- \n",
      " 0   cast    45476 non-null  object\n",
      " 1   crew    45476 non-null  object\n",
      " 2   id      45476 non-null  int64 \n",
      "dtypes: int64(1), object(2)\n",
      "memory usage: 1.0+ MB\n"
     ]
    }
   ],
   "source": [
    "df_credits.info()"
   ]
  },
  {
   "cell_type": "code",
   "execution_count": 27,
   "metadata": {
    "execution": {
     "iopub.execute_input": "2021-01-23T16:28:52.104994Z",
     "iopub.status.busy": "2021-01-23T16:28:52.104327Z",
     "iopub.status.idle": "2021-01-23T16:28:52.107623Z",
     "shell.execute_reply": "2021-01-23T16:28:52.108184Z"
    },
    "papermill": {
     "duration": 0.075436,
     "end_time": "2021-01-23T16:28:52.108326",
     "exception": false,
     "start_time": "2021-01-23T16:28:52.032890",
     "status": "completed"
    },
    "tags": []
   },
   "outputs": [
    {
     "data": {
      "text/html": [
       "<div>\n",
       "<style scoped>\n",
       "    .dataframe tbody tr th:only-of-type {\n",
       "        vertical-align: middle;\n",
       "    }\n",
       "\n",
       "    .dataframe tbody tr th {\n",
       "        vertical-align: top;\n",
       "    }\n",
       "\n",
       "    .dataframe thead th {\n",
       "        text-align: right;\n",
       "    }\n",
       "</style>\n",
       "<table border=\"1\" class=\"dataframe\">\n",
       "  <thead>\n",
       "    <tr style=\"text-align: right;\">\n",
       "      <th></th>\n",
       "      <th>cast</th>\n",
       "      <th>crew</th>\n",
       "      <th>id</th>\n",
       "    </tr>\n",
       "  </thead>\n",
       "  <tbody>\n",
       "    <tr>\n",
       "      <th>0</th>\n",
       "      <td>[{'cast_id': 14, 'character': 'Woody (voice)',...</td>\n",
       "      <td>[{'credit_id': '52fe4284c3a36847f8024f49', 'de...</td>\n",
       "      <td>862</td>\n",
       "    </tr>\n",
       "    <tr>\n",
       "      <th>1</th>\n",
       "      <td>[{'cast_id': 1, 'character': 'Alan Parrish', '...</td>\n",
       "      <td>[{'credit_id': '52fe44bfc3a36847f80a7cd1', 'de...</td>\n",
       "      <td>8844</td>\n",
       "    </tr>\n",
       "    <tr>\n",
       "      <th>2</th>\n",
       "      <td>[{'cast_id': 2, 'character': 'Max Goldman', 'c...</td>\n",
       "      <td>[{'credit_id': '52fe466a9251416c75077a89', 'de...</td>\n",
       "      <td>15602</td>\n",
       "    </tr>\n",
       "    <tr>\n",
       "      <th>3</th>\n",
       "      <td>[{'cast_id': 1, 'character': \"Savannah 'Vannah...</td>\n",
       "      <td>[{'credit_id': '52fe44779251416c91011acb', 'de...</td>\n",
       "      <td>31357</td>\n",
       "    </tr>\n",
       "    <tr>\n",
       "      <th>4</th>\n",
       "      <td>[{'cast_id': 1, 'character': 'George Banks', '...</td>\n",
       "      <td>[{'credit_id': '52fe44959251416c75039ed7', 'de...</td>\n",
       "      <td>11862</td>\n",
       "    </tr>\n",
       "  </tbody>\n",
       "</table>\n",
       "</div>"
      ],
      "text/plain": [
       "                                                cast  \\\n",
       "0  [{'cast_id': 14, 'character': 'Woody (voice)',...   \n",
       "1  [{'cast_id': 1, 'character': 'Alan Parrish', '...   \n",
       "2  [{'cast_id': 2, 'character': 'Max Goldman', 'c...   \n",
       "3  [{'cast_id': 1, 'character': \"Savannah 'Vannah...   \n",
       "4  [{'cast_id': 1, 'character': 'George Banks', '...   \n",
       "\n",
       "                                                crew     id  \n",
       "0  [{'credit_id': '52fe4284c3a36847f8024f49', 'de...    862  \n",
       "1  [{'credit_id': '52fe44bfc3a36847f80a7cd1', 'de...   8844  \n",
       "2  [{'credit_id': '52fe466a9251416c75077a89', 'de...  15602  \n",
       "3  [{'credit_id': '52fe44779251416c91011acb', 'de...  31357  \n",
       "4  [{'credit_id': '52fe44959251416c75039ed7', 'de...  11862  "
      ]
     },
     "execution_count": 27,
     "metadata": {},
     "output_type": "execute_result"
    }
   ],
   "source": [
    "df_credits.head()"
   ]
  },
  {
   "cell_type": "code",
   "execution_count": 28,
   "metadata": {
    "execution": {
     "iopub.execute_input": "2021-01-23T16:28:52.240741Z",
     "iopub.status.busy": "2021-01-23T16:28:52.240080Z",
     "iopub.status.idle": "2021-01-23T16:28:52.268639Z",
     "shell.execute_reply": "2021-01-23T16:28:52.267898Z"
    },
    "papermill": {
     "duration": 0.099936,
     "end_time": "2021-01-23T16:28:52.268795",
     "exception": false,
     "start_time": "2021-01-23T16:28:52.168859",
     "status": "completed"
    },
    "tags": []
   },
   "outputs": [
    {
     "name": "stdout",
     "output_type": "stream",
     "text": [
      "<class 'pandas.core.frame.DataFrame'>\n",
      "RangeIndex: 46419 entries, 0 to 46418\n",
      "Data columns (total 2 columns):\n",
      " #   Column    Non-Null Count  Dtype \n",
      "---  ------    --------------  ----- \n",
      " 0   id        46419 non-null  int64 \n",
      " 1   keywords  46419 non-null  object\n",
      "dtypes: int64(1), object(1)\n",
      "memory usage: 725.4+ KB\n"
     ]
    }
   ],
   "source": [
    "df_keywords.info()"
   ]
  },
  {
   "cell_type": "code",
   "execution_count": 29,
   "metadata": {
    "execution": {
     "iopub.execute_input": "2021-01-23T16:28:52.403086Z",
     "iopub.status.busy": "2021-01-23T16:28:52.402125Z",
     "iopub.status.idle": "2021-01-23T16:28:52.405936Z",
     "shell.execute_reply": "2021-01-23T16:28:52.406507Z"
    },
    "papermill": {
     "duration": 0.075052,
     "end_time": "2021-01-23T16:28:52.406671",
     "exception": false,
     "start_time": "2021-01-23T16:28:52.331619",
     "status": "completed"
    },
    "tags": []
   },
   "outputs": [
    {
     "data": {
      "text/html": [
       "<div>\n",
       "<style scoped>\n",
       "    .dataframe tbody tr th:only-of-type {\n",
       "        vertical-align: middle;\n",
       "    }\n",
       "\n",
       "    .dataframe tbody tr th {\n",
       "        vertical-align: top;\n",
       "    }\n",
       "\n",
       "    .dataframe thead th {\n",
       "        text-align: right;\n",
       "    }\n",
       "</style>\n",
       "<table border=\"1\" class=\"dataframe\">\n",
       "  <thead>\n",
       "    <tr style=\"text-align: right;\">\n",
       "      <th></th>\n",
       "      <th>id</th>\n",
       "      <th>keywords</th>\n",
       "    </tr>\n",
       "  </thead>\n",
       "  <tbody>\n",
       "    <tr>\n",
       "      <th>0</th>\n",
       "      <td>862</td>\n",
       "      <td>[{'id': 931, 'name': 'jealousy'}, {'id': 4290,...</td>\n",
       "    </tr>\n",
       "    <tr>\n",
       "      <th>1</th>\n",
       "      <td>8844</td>\n",
       "      <td>[{'id': 10090, 'name': 'board game'}, {'id': 1...</td>\n",
       "    </tr>\n",
       "    <tr>\n",
       "      <th>2</th>\n",
       "      <td>15602</td>\n",
       "      <td>[{'id': 1495, 'name': 'fishing'}, {'id': 12392...</td>\n",
       "    </tr>\n",
       "    <tr>\n",
       "      <th>3</th>\n",
       "      <td>31357</td>\n",
       "      <td>[{'id': 818, 'name': 'based on novel'}, {'id':...</td>\n",
       "    </tr>\n",
       "    <tr>\n",
       "      <th>4</th>\n",
       "      <td>11862</td>\n",
       "      <td>[{'id': 1009, 'name': 'baby'}, {'id': 1599, 'n...</td>\n",
       "    </tr>\n",
       "  </tbody>\n",
       "</table>\n",
       "</div>"
      ],
      "text/plain": [
       "      id                                           keywords\n",
       "0    862  [{'id': 931, 'name': 'jealousy'}, {'id': 4290,...\n",
       "1   8844  [{'id': 10090, 'name': 'board game'}, {'id': 1...\n",
       "2  15602  [{'id': 1495, 'name': 'fishing'}, {'id': 12392...\n",
       "3  31357  [{'id': 818, 'name': 'based on novel'}, {'id':...\n",
       "4  11862  [{'id': 1009, 'name': 'baby'}, {'id': 1599, 'n..."
      ]
     },
     "execution_count": 29,
     "metadata": {},
     "output_type": "execute_result"
    }
   ],
   "source": [
    "df_keywords.head()"
   ]
  },
  {
   "cell_type": "code",
   "execution_count": 30,
   "metadata": {
    "execution": {
     "iopub.execute_input": "2021-01-23T16:28:52.535371Z",
     "iopub.status.busy": "2021-01-23T16:28:52.534341Z",
     "iopub.status.idle": "2021-01-23T16:28:52.634452Z",
     "shell.execute_reply": "2021-01-23T16:28:52.633878Z"
    },
    "papermill": {
     "duration": 0.166801,
     "end_time": "2021-01-23T16:28:52.634589",
     "exception": false,
     "start_time": "2021-01-23T16:28:52.467788",
     "status": "completed"
    },
    "tags": []
   },
   "outputs": [
    {
     "data": {
      "text/plain": [
       "(46478, 25)"
      ]
     },
     "execution_count": 30,
     "metadata": {},
     "output_type": "execute_result"
    }
   ],
   "source": [
    "df_movies.merge(df_keywords, on='id').shape"
   ]
  },
  {
   "cell_type": "code",
   "execution_count": 31,
   "metadata": {
    "execution": {
     "iopub.execute_input": "2021-01-23T16:28:52.767593Z",
     "iopub.status.busy": "2021-01-23T16:28:52.766935Z",
     "iopub.status.idle": "2021-01-23T16:28:52.996003Z",
     "shell.execute_reply": "2021-01-23T16:28:52.995261Z"
    },
    "papermill": {
     "duration": 0.298592,
     "end_time": "2021-01-23T16:28:52.996125",
     "exception": false,
     "start_time": "2021-01-23T16:28:52.697533",
     "status": "completed"
    },
    "tags": []
   },
   "outputs": [
    {
     "name": "stdout",
     "output_type": "stream",
     "text": [
      "(9219, 27)\n"
     ]
    }
   ],
   "source": [
    "# df_movies is trimmed as df_links_small used\n",
    "df_movies_small = df_movies.merge(df_credits, on='id').merge(df_keywords, on='id')\n",
    "df_movies_small = df_movies_small[df_movies_small.id.isin(df_links.tmdbId)]\n",
    "print(df_movies_small.shape)"
   ]
  },
  {
   "cell_type": "markdown",
   "metadata": {
    "papermill": {
     "duration": 0.062614,
     "end_time": "2021-01-23T16:28:53.122879",
     "exception": false,
     "start_time": "2021-01-23T16:28:53.060265",
     "status": "completed"
    },
    "tags": []
   },
   "source": [
    "This moment we focus on Cast / Crew / Keywords."
   ]
  },
  {
   "cell_type": "code",
   "execution_count": 32,
   "metadata": {
    "execution": {
     "iopub.execute_input": "2021-01-23T16:28:53.276392Z",
     "iopub.status.busy": "2021-01-23T16:28:53.271130Z",
     "iopub.status.idle": "2021-01-23T16:29:08.392720Z",
     "shell.execute_reply": "2021-01-23T16:29:08.393251Z"
    },
    "papermill": {
     "duration": 15.207978,
     "end_time": "2021-01-23T16:29:08.393403",
     "exception": false,
     "start_time": "2021-01-23T16:28:53.185425",
     "status": "completed"
    },
    "tags": []
   },
   "outputs": [],
   "source": [
    "df_movies_small['cast'] = df_movies_small['cast'].apply(literal_eval)\n",
    "df_movies_small['cast_size'] = df_movies_small['cast'].apply(lambda x: len(x))\n",
    "df_movies_small['cast'] = df_movies_small['cast'].apply(lambda x: [i['name'] for i in x] if isinstance(x, list) else [])\n",
    "# summarize the top 3 casts\n",
    "df_movies_small['cast'] = df_movies_small['cast'].apply(lambda x: x[:3] if len(x) >=3 else x) \\\n",
    "    .apply(lambda x: [str.lower(i.replace(\" \", \"\")) for i in x]) # Lower case without space\n",
    "\n",
    "df_movies_small['crew'] = df_movies_small['crew'].apply(literal_eval)\n",
    "df_movies_small['crew_size'] = df_movies_small['crew'].apply(lambda x: len(x))\n"
   ]
  },
  {
   "cell_type": "markdown",
   "metadata": {
    "papermill": {
     "duration": 0.061889,
     "end_time": "2021-01-23T16:29:08.518085",
     "exception": false,
     "start_time": "2021-01-23T16:29:08.456196",
     "status": "completed"
    },
    "tags": []
   },
   "source": [
    "And getting the director's name."
   ]
  },
  {
   "cell_type": "code",
   "execution_count": 33,
   "metadata": {
    "execution": {
     "iopub.execute_input": "2021-01-23T16:29:08.692390Z",
     "iopub.status.busy": "2021-01-23T16:29:08.691765Z",
     "iopub.status.idle": "2021-01-23T16:29:08.696177Z",
     "shell.execute_reply": "2021-01-23T16:29:08.696686Z"
    },
    "papermill": {
     "duration": 0.115377,
     "end_time": "2021-01-23T16:29:08.696851",
     "exception": false,
     "start_time": "2021-01-23T16:29:08.581474",
     "status": "completed"
    },
    "tags": []
   },
   "outputs": [],
   "source": [
    "def get_director(x):\n",
    "    for i in x:\n",
    "        if i['job'] == 'Director':\n",
    "            return i['name']\n",
    "    return np.nan\n",
    "\n",
    "# Lower case without space\n",
    "# 3 times to give it more weight relative to the entire cast\n",
    "df_movies_small['director'] = df_movies_small['crew'].apply(get_director) \\\n",
    "    .astype('str').apply(lambda x: str.lower(x.replace(\" \", \"\"))) \\\n",
    "    .apply(lambda x: [x]*3) "
   ]
  },
  {
   "cell_type": "code",
   "execution_count": 34,
   "metadata": {
    "execution": {
     "iopub.execute_input": "2021-01-23T16:29:08.852939Z",
     "iopub.status.busy": "2021-01-23T16:29:08.851351Z",
     "iopub.status.idle": "2021-01-23T16:29:08.962493Z",
     "shell.execute_reply": "2021-01-23T16:29:08.961991Z"
    },
    "papermill": {
     "duration": 0.197163,
     "end_time": "2021-01-23T16:29:08.962622",
     "exception": false,
     "start_time": "2021-01-23T16:29:08.765459",
     "status": "completed"
    },
    "tags": []
   },
   "outputs": [
    {
     "data": {
      "text/html": [
       "<div>\n",
       "<style scoped>\n",
       "    .dataframe tbody tr th:only-of-type {\n",
       "        vertical-align: middle;\n",
       "    }\n",
       "\n",
       "    .dataframe tbody tr th {\n",
       "        vertical-align: top;\n",
       "    }\n",
       "\n",
       "    .dataframe thead th {\n",
       "        text-align: right;\n",
       "    }\n",
       "</style>\n",
       "<table border=\"1\" class=\"dataframe\">\n",
       "  <thead>\n",
       "    <tr style=\"text-align: right;\">\n",
       "      <th></th>\n",
       "      <th>cast</th>\n",
       "      <th>cast_size</th>\n",
       "      <th>crew</th>\n",
       "      <th>crew_size</th>\n",
       "      <th>director</th>\n",
       "    </tr>\n",
       "  </thead>\n",
       "  <tbody>\n",
       "    <tr>\n",
       "      <th>0</th>\n",
       "      <td>[tomhanks, timallen, donrickles]</td>\n",
       "      <td>13</td>\n",
       "      <td>[{'credit_id': '52fe4284c3a36847f8024f49', 'de...</td>\n",
       "      <td>106</td>\n",
       "      <td>[johnlasseter, johnlasseter, johnlasseter]</td>\n",
       "    </tr>\n",
       "    <tr>\n",
       "      <th>1</th>\n",
       "      <td>[robinwilliams, jonathanhyde, kirstendunst]</td>\n",
       "      <td>26</td>\n",
       "      <td>[{'credit_id': '52fe44bfc3a36847f80a7cd1', 'de...</td>\n",
       "      <td>16</td>\n",
       "      <td>[joejohnston, joejohnston, joejohnston]</td>\n",
       "    </tr>\n",
       "    <tr>\n",
       "      <th>2</th>\n",
       "      <td>[waltermatthau, jacklemmon, ann-margret]</td>\n",
       "      <td>7</td>\n",
       "      <td>[{'credit_id': '52fe466a9251416c75077a89', 'de...</td>\n",
       "      <td>4</td>\n",
       "      <td>[howarddeutch, howarddeutch, howarddeutch]</td>\n",
       "    </tr>\n",
       "    <tr>\n",
       "      <th>3</th>\n",
       "      <td>[whitneyhouston, angelabassett, lorettadevine]</td>\n",
       "      <td>10</td>\n",
       "      <td>[{'credit_id': '52fe44779251416c91011acb', 'de...</td>\n",
       "      <td>10</td>\n",
       "      <td>[forestwhitaker, forestwhitaker, forestwhitaker]</td>\n",
       "    </tr>\n",
       "    <tr>\n",
       "      <th>4</th>\n",
       "      <td>[stevemartin, dianekeaton, martinshort]</td>\n",
       "      <td>12</td>\n",
       "      <td>[{'credit_id': '52fe44959251416c75039ed7', 'de...</td>\n",
       "      <td>7</td>\n",
       "      <td>[charlesshyer, charlesshyer, charlesshyer]</td>\n",
       "    </tr>\n",
       "  </tbody>\n",
       "</table>\n",
       "</div>"
      ],
      "text/plain": [
       "                                             cast  cast_size  \\\n",
       "0                [tomhanks, timallen, donrickles]         13   \n",
       "1     [robinwilliams, jonathanhyde, kirstendunst]         26   \n",
       "2        [waltermatthau, jacklemmon, ann-margret]          7   \n",
       "3  [whitneyhouston, angelabassett, lorettadevine]         10   \n",
       "4         [stevemartin, dianekeaton, martinshort]         12   \n",
       "\n",
       "                                                crew  crew_size  \\\n",
       "0  [{'credit_id': '52fe4284c3a36847f8024f49', 'de...        106   \n",
       "1  [{'credit_id': '52fe44bfc3a36847f80a7cd1', 'de...         16   \n",
       "2  [{'credit_id': '52fe466a9251416c75077a89', 'de...          4   \n",
       "3  [{'credit_id': '52fe44779251416c91011acb', 'de...         10   \n",
       "4  [{'credit_id': '52fe44959251416c75039ed7', 'de...          7   \n",
       "\n",
       "                                           director  \n",
       "0        [johnlasseter, johnlasseter, johnlasseter]  \n",
       "1           [joejohnston, joejohnston, joejohnston]  \n",
       "2        [howarddeutch, howarddeutch, howarddeutch]  \n",
       "3  [forestwhitaker, forestwhitaker, forestwhitaker]  \n",
       "4        [charlesshyer, charlesshyer, charlesshyer]  "
      ]
     },
     "execution_count": 34,
     "metadata": {},
     "output_type": "execute_result"
    }
   ],
   "source": [
    "df_movies_small[['cast', 'cast_size', 'crew', 'crew_size', 'director']].head()"
   ]
  },
  {
   "cell_type": "markdown",
   "metadata": {
    "papermill": {
     "duration": 0.064228,
     "end_time": "2021-01-23T16:29:09.090892",
     "exception": false,
     "start_time": "2021-01-23T16:29:09.026664",
     "status": "completed"
    },
    "tags": []
   },
   "source": [
    "And Keywords."
   ]
  },
  {
   "cell_type": "code",
   "execution_count": 35,
   "metadata": {
    "execution": {
     "iopub.execute_input": "2021-01-23T16:29:09.240483Z",
     "iopub.status.busy": "2021-01-23T16:29:09.239852Z",
     "iopub.status.idle": "2021-01-23T16:29:10.229662Z",
     "shell.execute_reply": "2021-01-23T16:29:10.229066Z"
    },
    "papermill": {
     "duration": 1.075077,
     "end_time": "2021-01-23T16:29:10.229797",
     "exception": false,
     "start_time": "2021-01-23T16:29:09.154720",
     "status": "completed"
    },
    "tags": []
   },
   "outputs": [],
   "source": [
    "df_movies_small['keywords'] = df_movies_small['keywords'].apply(literal_eval)\n",
    "df_movies_small['keywords'] = df_movies_small['keywords'].apply(lambda x: [i['name'] for i in x] if isinstance(x, list) else [])\n"
   ]
  },
  {
   "cell_type": "code",
   "execution_count": 36,
   "metadata": {
    "execution": {
     "iopub.execute_input": "2021-01-23T16:29:10.370592Z",
     "iopub.status.busy": "2021-01-23T16:29:10.369608Z",
     "iopub.status.idle": "2021-01-23T16:29:10.374950Z",
     "shell.execute_reply": "2021-01-23T16:29:10.374287Z"
    },
    "papermill": {
     "duration": 0.079354,
     "end_time": "2021-01-23T16:29:10.375080",
     "exception": false,
     "start_time": "2021-01-23T16:29:10.295726",
     "status": "completed"
    },
    "tags": []
   },
   "outputs": [
    {
     "data": {
      "text/plain": [
       "0        [jealousy, toy, boy, friendship, friends, riva...\n",
       "1        [board game, disappearance, based on children'...\n",
       "2        [fishing, best friend, duringcreditsstinger, o...\n",
       "3        [based on novel, interracial relationship, sin...\n",
       "4        [baby, midlife crisis, confidence, aging, daug...\n",
       "                               ...                        \n",
       "40948                           [friendship, brick making]\n",
       "41168                                          [bollywood]\n",
       "41221                                          [bollywood]\n",
       "41387    [monster, godzilla, giant monster, destruction...\n",
       "41665                                 [music, documentary]\n",
       "Name: keywords, Length: 9219, dtype: object"
      ]
     },
     "execution_count": 36,
     "metadata": {},
     "output_type": "execute_result"
    }
   ],
   "source": [
    "df_movies_small.keywords"
   ]
  },
  {
   "cell_type": "markdown",
   "metadata": {
    "papermill": {
     "duration": 0.064744,
     "end_time": "2021-01-23T16:29:10.506089",
     "exception": false,
     "start_time": "2021-01-23T16:29:10.441345",
     "status": "completed"
    },
    "tags": []
   },
   "source": [
    "Keyword distribution analysis"
   ]
  },
  {
   "cell_type": "code",
   "execution_count": 37,
   "metadata": {
    "execution": {
     "iopub.execute_input": "2021-01-23T16:29:10.641060Z",
     "iopub.status.busy": "2021-01-23T16:29:10.640360Z",
     "iopub.status.idle": "2021-01-23T16:29:14.897005Z",
     "shell.execute_reply": "2021-01-23T16:29:14.896396Z"
    },
    "papermill": {
     "duration": 4.325033,
     "end_time": "2021-01-23T16:29:14.897133",
     "exception": false,
     "start_time": "2021-01-23T16:29:10.572100",
     "status": "completed"
    },
    "tags": []
   },
   "outputs": [
    {
     "name": "stderr",
     "output_type": "stream",
     "text": [
      "/opt/conda/lib/python3.7/site-packages/ipykernel_launcher.py:1: DeprecationWarning: The default dtype for empty Series will be 'object' instead of 'float64' in a future version. Specify a dtype explicitly to silence this warning.\n",
      "  \"\"\"Entry point for launching an IPython kernel.\n"
     ]
    }
   ],
   "source": [
    "s = df_movies_small.apply(lambda x: pd.Series(x['keywords']),axis=1).stack() \\\n",
    "    .reset_index(level=1, drop=True) \\\n",
    "    .value_counts()\n",
    "s = s[s > 1]"
   ]
  },
  {
   "cell_type": "code",
   "execution_count": 38,
   "metadata": {
    "execution": {
     "iopub.execute_input": "2021-01-23T16:29:15.038087Z",
     "iopub.status.busy": "2021-01-23T16:29:15.037432Z",
     "iopub.status.idle": "2021-01-23T16:29:15.042208Z",
     "shell.execute_reply": "2021-01-23T16:29:15.041552Z"
    },
    "papermill": {
     "duration": 0.079935,
     "end_time": "2021-01-23T16:29:15.042318",
     "exception": false,
     "start_time": "2021-01-23T16:29:14.962383",
     "status": "completed"
    },
    "tags": []
   },
   "outputs": [
    {
     "data": {
      "text/plain": [
       "independent film        610\n",
       "woman director          550\n",
       "murder                  399\n",
       "duringcreditsstinger    327\n",
       "based on novel          318\n",
       "                       ... \n",
       "siam                      2\n",
       "whistleblower             2\n",
       "sleigh                    2\n",
       "romanian new wave         2\n",
       "pleasure                  2\n",
       "Length: 6709, dtype: int64"
      ]
     },
     "execution_count": 38,
     "metadata": {},
     "output_type": "execute_result"
    }
   ],
   "source": [
    "s"
   ]
  },
  {
   "cell_type": "markdown",
   "metadata": {
    "papermill": {
     "duration": 0.066247,
     "end_time": "2021-01-23T16:29:15.176290",
     "exception": false,
     "start_time": "2021-01-23T16:29:15.110043",
     "status": "completed"
    },
    "tags": []
   },
   "source": [
    "Filter Keyword with stemming, and lower case."
   ]
  },
  {
   "cell_type": "code",
   "execution_count": 39,
   "metadata": {
    "execution": {
     "iopub.execute_input": "2021-01-23T16:29:15.313303Z",
     "iopub.status.busy": "2021-01-23T16:29:15.312548Z",
     "iopub.status.idle": "2021-01-23T16:29:17.329534Z",
     "shell.execute_reply": "2021-01-23T16:29:17.328963Z"
    },
    "papermill": {
     "duration": 2.086885,
     "end_time": "2021-01-23T16:29:17.329688",
     "exception": false,
     "start_time": "2021-01-23T16:29:15.242803",
     "status": "completed"
    },
    "tags": []
   },
   "outputs": [],
   "source": [
    "def filter_keywords(x, s):\n",
    "    words = [i for i in x if i in s]\n",
    "    return words\n",
    "\n",
    "from nltk.stem.snowball import SnowballStemmer\n",
    "\n",
    "stemmer = SnowballStemmer('english')\n",
    "df_movies_small['keywords'] = df_movies_small['keywords'].apply(filter_keywords, s=s) \\\n",
    "    .apply(lambda x: [stemmer.stem(i) for i in x]) \\\n",
    "    .apply(lambda x: [str.lower(i.replace(\" \", \"\")) for i in x])"
   ]
  },
  {
   "cell_type": "code",
   "execution_count": 40,
   "metadata": {
    "execution": {
     "iopub.execute_input": "2021-01-23T16:29:17.478138Z",
     "iopub.status.busy": "2021-01-23T16:29:17.477416Z",
     "iopub.status.idle": "2021-01-23T16:29:17.482255Z",
     "shell.execute_reply": "2021-01-23T16:29:17.481708Z"
    },
    "papermill": {
     "duration": 0.086423,
     "end_time": "2021-01-23T16:29:17.482385",
     "exception": false,
     "start_time": "2021-01-23T16:29:17.395962",
     "status": "completed"
    },
    "tags": []
   },
   "outputs": [
    {
     "data": {
      "text/plain": [
       "0        [jealousi, toy, boy, friendship, friend, rival...\n",
       "1        [boardgam, disappear, basedonchildren'sbook, n...\n",
       "2                   [fish, bestfriend, duringcreditssting]\n",
       "3        [basedonnovel, interracialrelationship, single...\n",
       "4        [babi, midlifecrisi, confid, age, daughter, mo...\n",
       "                               ...                        \n",
       "40948                                         [friendship]\n",
       "41168                                          [bollywood]\n",
       "41221                                          [bollywood]\n",
       "41387     [monster, godzilla, giantmonst, destruct, kaiju]\n",
       "41665                                 [music, documentari]\n",
       "Name: keywords, Length: 9219, dtype: object"
      ]
     },
     "execution_count": 40,
     "metadata": {},
     "output_type": "execute_result"
    }
   ],
   "source": [
    "df_movies_small.keywords"
   ]
  },
  {
   "cell_type": "markdown",
   "metadata": {
    "papermill": {
     "duration": 0.066984,
     "end_time": "2021-01-23T16:29:17.616224",
     "exception": false,
     "start_time": "2021-01-23T16:29:17.549240",
     "status": "completed"
    },
    "tags": []
   },
   "source": [
    "Integrate all the features together."
   ]
  },
  {
   "cell_type": "code",
   "execution_count": 41,
   "metadata": {
    "execution": {
     "iopub.execute_input": "2021-01-23T16:29:17.920204Z",
     "iopub.status.busy": "2021-01-23T16:29:17.895119Z",
     "iopub.status.idle": "2021-01-23T16:29:17.923310Z",
     "shell.execute_reply": "2021-01-23T16:29:17.923857Z"
    },
    "papermill": {
     "duration": 0.240366,
     "end_time": "2021-01-23T16:29:17.924023",
     "exception": false,
     "start_time": "2021-01-23T16:29:17.683657",
     "status": "completed"
    },
    "tags": []
   },
   "outputs": [],
   "source": [
    "df_movies_small['soup'] = (df_movies_small['keywords'] + df_movies_small['cast'] + df_movies_small['director'] + df_movies_small['genres']) \\\n",
    "    .apply(lambda x: ' '.join(x))"
   ]
  },
  {
   "cell_type": "code",
   "execution_count": 42,
   "metadata": {
    "execution": {
     "iopub.execute_input": "2021-01-23T16:29:18.067334Z",
     "iopub.status.busy": "2021-01-23T16:29:18.066324Z",
     "iopub.status.idle": "2021-01-23T16:29:18.070632Z",
     "shell.execute_reply": "2021-01-23T16:29:18.071128Z"
    },
    "papermill": {
     "duration": 0.080364,
     "end_time": "2021-01-23T16:29:18.071286",
     "exception": false,
     "start_time": "2021-01-23T16:29:17.990922",
     "status": "completed"
    },
    "tags": []
   },
   "outputs": [
    {
     "data": {
      "text/plain": [
       "0    jealousi toy boy friendship friend rivalri boy...\n",
       "1    boardgam disappear basedonchildren'sbook newho...\n",
       "2    fish bestfriend duringcreditssting waltermatth...\n",
       "3    basedonnovel interracialrelationship singlemot...\n",
       "4    babi midlifecrisi confid age daughter motherda...\n",
       "Name: soup, dtype: object"
      ]
     },
     "execution_count": 42,
     "metadata": {},
     "output_type": "execute_result"
    }
   ],
   "source": [
    "df_movies_small['soup'].head()"
   ]
  },
  {
   "cell_type": "markdown",
   "metadata": {
    "papermill": {
     "duration": 0.066987,
     "end_time": "2021-01-23T16:29:18.205490",
     "exception": false,
     "start_time": "2021-01-23T16:29:18.138503",
     "status": "completed"
    },
    "tags": []
   },
   "source": [
    "### Embedding Metadata (\"Soup\") using Counts"
   ]
  },
  {
   "cell_type": "code",
   "execution_count": 43,
   "metadata": {
    "execution": {
     "iopub.execute_input": "2021-01-23T16:29:18.354032Z",
     "iopub.status.busy": "2021-01-23T16:29:18.348862Z",
     "iopub.status.idle": "2021-01-23T16:29:19.294631Z",
     "shell.execute_reply": "2021-01-23T16:29:19.293926Z"
    },
    "papermill": {
     "duration": 1.021964,
     "end_time": "2021-01-23T16:29:19.294813",
     "exception": false,
     "start_time": "2021-01-23T16:29:18.272849",
     "status": "completed"
    },
    "tags": []
   },
   "outputs": [
    {
     "name": "stdout",
     "output_type": "stream",
     "text": [
      "(9219, 107377)\n"
     ]
    }
   ],
   "source": [
    "from sklearn.feature_extraction.text import CountVectorizer\n",
    "\n",
    "counter = CountVectorizer(analyzer='word',ngram_range=(1, 2),min_df=0, stop_words='english')\n",
    "count_matrix = counter.fit_transform(df_movies_small.soup)\n",
    "\n",
    "print(count_matrix.shape)"
   ]
  },
  {
   "cell_type": "markdown",
   "metadata": {
    "papermill": {
     "duration": 0.067453,
     "end_time": "2021-01-23T16:29:19.429769",
     "exception": false,
     "start_time": "2021-01-23T16:29:19.362316",
     "status": "completed"
    },
    "tags": []
   },
   "source": [
    "### Movies Relationship Score"
   ]
  },
  {
   "cell_type": "code",
   "execution_count": 44,
   "metadata": {
    "execution": {
     "iopub.execute_input": "2021-01-23T16:29:19.570677Z",
     "iopub.status.busy": "2021-01-23T16:29:19.570033Z",
     "iopub.status.idle": "2021-01-23T16:29:21.584207Z",
     "shell.execute_reply": "2021-01-23T16:29:21.583276Z"
    },
    "papermill": {
     "duration": 2.086966,
     "end_time": "2021-01-23T16:29:21.584369",
     "exception": false,
     "start_time": "2021-01-23T16:29:19.497403",
     "status": "completed"
    },
    "tags": []
   },
   "outputs": [
    {
     "name": "stdout",
     "output_type": "stream",
     "text": [
      "(9219, 9219)\n"
     ]
    }
   ],
   "source": [
    "movies_rel_scores = cosine_similarity(count_matrix, count_matrix)\n",
    "print(movies_rel_scores.shape)"
   ]
  },
  {
   "cell_type": "code",
   "execution_count": 45,
   "metadata": {
    "execution": {
     "iopub.execute_input": "2021-01-23T16:29:21.726947Z",
     "iopub.status.busy": "2021-01-23T16:29:21.726280Z",
     "iopub.status.idle": "2021-01-23T16:29:21.769850Z",
     "shell.execute_reply": "2021-01-23T16:29:21.769196Z"
    },
    "papermill": {
     "duration": 0.117221,
     "end_time": "2021-01-23T16:29:21.770013",
     "exception": false,
     "start_time": "2021-01-23T16:29:21.652792",
     "status": "completed"
    },
    "tags": []
   },
   "outputs": [
    {
     "data": {
      "text/html": [
       "<div>\n",
       "<style scoped>\n",
       "    .dataframe tbody tr th:only-of-type {\n",
       "        vertical-align: middle;\n",
       "    }\n",
       "\n",
       "    .dataframe tbody tr th {\n",
       "        vertical-align: top;\n",
       "    }\n",
       "\n",
       "    .dataframe thead th {\n",
       "        text-align: right;\n",
       "    }\n",
       "</style>\n",
       "<table border=\"1\" class=\"dataframe\">\n",
       "  <thead>\n",
       "    <tr style=\"text-align: right;\">\n",
       "      <th></th>\n",
       "      <th>title</th>\n",
       "      <th>movie_index</th>\n",
       "      <th>movie_score</th>\n",
       "    </tr>\n",
       "  </thead>\n",
       "  <tbody>\n",
       "    <tr>\n",
       "      <th>8031</th>\n",
       "      <td>The Dark Knight Rises</td>\n",
       "      <td>8031</td>\n",
       "      <td>0.492757</td>\n",
       "    </tr>\n",
       "    <tr>\n",
       "      <th>6218</th>\n",
       "      <td>Batman Begins</td>\n",
       "      <td>6218</td>\n",
       "      <td>0.468576</td>\n",
       "    </tr>\n",
       "    <tr>\n",
       "      <th>6623</th>\n",
       "      <td>The Prestige</td>\n",
       "      <td>6623</td>\n",
       "      <td>0.343754</td>\n",
       "    </tr>\n",
       "    <tr>\n",
       "      <th>2085</th>\n",
       "      <td>Following</td>\n",
       "      <td>2085</td>\n",
       "      <td>0.295840</td>\n",
       "    </tr>\n",
       "    <tr>\n",
       "      <th>7648</th>\n",
       "      <td>Inception</td>\n",
       "      <td>7648</td>\n",
       "      <td>0.271385</td>\n",
       "    </tr>\n",
       "    <tr>\n",
       "      <th>4145</th>\n",
       "      <td>Insomnia</td>\n",
       "      <td>4145</td>\n",
       "      <td>0.265789</td>\n",
       "    </tr>\n",
       "    <tr>\n",
       "      <th>3381</th>\n",
       "      <td>Memento</td>\n",
       "      <td>3381</td>\n",
       "      <td>0.248069</td>\n",
       "    </tr>\n",
       "    <tr>\n",
       "      <th>8613</th>\n",
       "      <td>Interstellar</td>\n",
       "      <td>8613</td>\n",
       "      <td>0.204219</td>\n",
       "    </tr>\n",
       "    <tr>\n",
       "      <th>7659</th>\n",
       "      <td>Batman: Under the Red Hood</td>\n",
       "      <td>7659</td>\n",
       "      <td>0.203390</td>\n",
       "    </tr>\n",
       "    <tr>\n",
       "      <th>1134</th>\n",
       "      <td>Batman Returns</td>\n",
       "      <td>1134</td>\n",
       "      <td>0.187412</td>\n",
       "    </tr>\n",
       "  </tbody>\n",
       "</table>\n",
       "</div>"
      ],
      "text/plain": [
       "                           title  movie_index  movie_score\n",
       "8031       The Dark Knight Rises         8031     0.492757\n",
       "6218               Batman Begins         6218     0.468576\n",
       "6623                The Prestige         6623     0.343754\n",
       "2085                   Following         2085     0.295840\n",
       "7648                   Inception         7648     0.271385\n",
       "4145                    Insomnia         4145     0.265789\n",
       "3381                     Memento         3381     0.248069\n",
       "8613                Interstellar         8613     0.204219\n",
       "7659  Batman: Under the Red Hood         7659     0.203390\n",
       "1134              Batman Returns         1134     0.187412"
      ]
     },
     "execution_count": 45,
     "metadata": {},
     "output_type": "execute_result"
    }
   ],
   "source": [
    "get_recommendations('The Dark Knight', df_movies_small, movies_rel_scores).head(10)"
   ]
  },
  {
   "cell_type": "code",
   "execution_count": 46,
   "metadata": {
    "execution": {
     "iopub.execute_input": "2021-01-23T16:29:21.912633Z",
     "iopub.status.busy": "2021-01-23T16:29:21.911652Z",
     "iopub.status.idle": "2021-01-23T16:29:21.949491Z",
     "shell.execute_reply": "2021-01-23T16:29:21.950046Z"
    },
    "papermill": {
     "duration": 0.110895,
     "end_time": "2021-01-23T16:29:21.950186",
     "exception": false,
     "start_time": "2021-01-23T16:29:21.839291",
     "status": "completed"
    },
    "tags": []
   },
   "outputs": [
    {
     "data": {
      "text/html": [
       "<div>\n",
       "<style scoped>\n",
       "    .dataframe tbody tr th:only-of-type {\n",
       "        vertical-align: middle;\n",
       "    }\n",
       "\n",
       "    .dataframe tbody tr th {\n",
       "        vertical-align: top;\n",
       "    }\n",
       "\n",
       "    .dataframe thead th {\n",
       "        text-align: right;\n",
       "    }\n",
       "</style>\n",
       "<table border=\"1\" class=\"dataframe\">\n",
       "  <thead>\n",
       "    <tr style=\"text-align: right;\">\n",
       "      <th></th>\n",
       "      <th>title</th>\n",
       "      <th>movie_index</th>\n",
       "      <th>movie_score</th>\n",
       "    </tr>\n",
       "  </thead>\n",
       "  <tbody>\n",
       "    <tr>\n",
       "      <th>3319</th>\n",
       "      <td>Head Over Heels</td>\n",
       "      <td>3319</td>\n",
       "      <td>0.462250</td>\n",
       "    </tr>\n",
       "    <tr>\n",
       "      <th>4763</th>\n",
       "      <td>Freaky Friday</td>\n",
       "      <td>4763</td>\n",
       "      <td>0.388650</td>\n",
       "    </tr>\n",
       "    <tr>\n",
       "      <th>6277</th>\n",
       "      <td>Just Like Heaven</td>\n",
       "      <td>6277</td>\n",
       "      <td>0.384615</td>\n",
       "    </tr>\n",
       "    <tr>\n",
       "      <th>1329</th>\n",
       "      <td>The House of Yes</td>\n",
       "      <td>1329</td>\n",
       "      <td>0.384615</td>\n",
       "    </tr>\n",
       "    <tr>\n",
       "      <th>7905</th>\n",
       "      <td>Mr. Popper's Penguins</td>\n",
       "      <td>7905</td>\n",
       "      <td>0.375117</td>\n",
       "    </tr>\n",
       "    <tr>\n",
       "      <th>7332</th>\n",
       "      <td>Ghosts of Girlfriends Past</td>\n",
       "      <td>7332</td>\n",
       "      <td>0.368549</td>\n",
       "    </tr>\n",
       "    <tr>\n",
       "      <th>6959</th>\n",
       "      <td>The Spiderwick Chronicles</td>\n",
       "      <td>6959</td>\n",
       "      <td>0.310316</td>\n",
       "    </tr>\n",
       "    <tr>\n",
       "      <th>8883</th>\n",
       "      <td>The DUFF</td>\n",
       "      <td>8883</td>\n",
       "      <td>0.153846</td>\n",
       "    </tr>\n",
       "    <tr>\n",
       "      <th>6698</th>\n",
       "      <td>It's a Boy Girl Thing</td>\n",
       "      <td>6698</td>\n",
       "      <td>0.129550</td>\n",
       "    </tr>\n",
       "    <tr>\n",
       "      <th>7377</th>\n",
       "      <td>I Love You, Beth Cooper</td>\n",
       "      <td>7377</td>\n",
       "      <td>0.125039</td>\n",
       "    </tr>\n",
       "  </tbody>\n",
       "</table>\n",
       "</div>"
      ],
      "text/plain": [
       "                           title  movie_index  movie_score\n",
       "3319             Head Over Heels         3319     0.462250\n",
       "4763               Freaky Friday         4763     0.388650\n",
       "6277            Just Like Heaven         6277     0.384615\n",
       "1329            The House of Yes         1329     0.384615\n",
       "7905       Mr. Popper's Penguins         7905     0.375117\n",
       "7332  Ghosts of Girlfriends Past         7332     0.368549\n",
       "6959   The Spiderwick Chronicles         6959     0.310316\n",
       "8883                    The DUFF         8883     0.153846\n",
       "6698       It's a Boy Girl Thing         6698     0.129550\n",
       "7377     I Love You, Beth Cooper         7377     0.125039"
      ]
     },
     "execution_count": 46,
     "metadata": {},
     "output_type": "execute_result"
    }
   ],
   "source": [
    "get_recommendations('Mean Girls', df_movies_small, movies_rel_scores).head(10)"
   ]
  },
  {
   "cell_type": "markdown",
   "metadata": {
    "papermill": {
     "duration": 0.070068,
     "end_time": "2021-01-23T16:29:22.089198",
     "exception": false,
     "start_time": "2021-01-23T16:29:22.019130",
     "status": "completed"
    },
    "tags": []
   },
   "source": [
    "### 3.3 Top Score Recommendation after Content-Based Filtering\n",
    "Firstly, find the top M scores from content-based filtering. <br>\n",
    "Then, Sort according to the weighted vote score."
   ]
  },
  {
   "cell_type": "code",
   "execution_count": 47,
   "metadata": {
    "execution": {
     "iopub.execute_input": "2021-01-23T16:29:22.233849Z",
     "iopub.status.busy": "2021-01-23T16:29:22.232874Z",
     "iopub.status.idle": "2021-01-23T16:29:22.240326Z",
     "shell.execute_reply": "2021-01-23T16:29:22.240822Z"
    },
    "papermill": {
     "duration": 0.081872,
     "end_time": "2021-01-23T16:29:22.241005",
     "exception": false,
     "start_time": "2021-01-23T16:29:22.159133",
     "status": "completed"
    },
    "tags": []
   },
   "outputs": [],
   "source": [
    "def get_recommendations_from_votes(title, df_movies, movies_rel_scores, nCBFs, vote_quantile):\n",
    "    CBF_recommended = get_recommendations(title, df_movies, movies_rel_scores).head(nCBFs)\n",
    "    CBF_titles = CBF_recommended.title\n",
    "    df_movies_CBF = df_movies[df_movies.title.isin(CBF_titles)]\n",
    "    return scoring_df_movies(df_movies_CBF, quantile=vote_quantile)"
   ]
  },
  {
   "cell_type": "code",
   "execution_count": 48,
   "metadata": {
    "execution": {
     "iopub.execute_input": "2021-01-23T16:29:22.386034Z",
     "iopub.status.busy": "2021-01-23T16:29:22.385382Z",
     "iopub.status.idle": "2021-01-23T16:29:22.440201Z",
     "shell.execute_reply": "2021-01-23T16:29:22.440733Z"
    },
    "papermill": {
     "duration": 0.128735,
     "end_time": "2021-01-23T16:29:22.440902",
     "exception": false,
     "start_time": "2021-01-23T16:29:22.312167",
     "status": "completed"
    },
    "tags": []
   },
   "outputs": [
    {
     "data": {
      "text/html": [
       "<div>\n",
       "<style scoped>\n",
       "    .dataframe tbody tr th:only-of-type {\n",
       "        vertical-align: middle;\n",
       "    }\n",
       "\n",
       "    .dataframe tbody tr th {\n",
       "        vertical-align: top;\n",
       "    }\n",
       "\n",
       "    .dataframe thead th {\n",
       "        text-align: right;\n",
       "    }\n",
       "</style>\n",
       "<table border=\"1\" class=\"dataframe\">\n",
       "  <thead>\n",
       "    <tr style=\"text-align: right;\">\n",
       "      <th></th>\n",
       "      <th>title</th>\n",
       "      <th>vote_count</th>\n",
       "      <th>vote_average</th>\n",
       "      <th>movie_score</th>\n",
       "    </tr>\n",
       "  </thead>\n",
       "  <tbody>\n",
       "    <tr>\n",
       "      <th>15651</th>\n",
       "      <td>Inception</td>\n",
       "      <td>14075.0</td>\n",
       "      <td>8.1</td>\n",
       "      <td>7.993409</td>\n",
       "    </tr>\n",
       "    <tr>\n",
       "      <th>23075</th>\n",
       "      <td>Interstellar</td>\n",
       "      <td>11187.0</td>\n",
       "      <td>8.1</td>\n",
       "      <td>7.968520</td>\n",
       "    </tr>\n",
       "    <tr>\n",
       "      <th>4126</th>\n",
       "      <td>Memento</td>\n",
       "      <td>4168.0</td>\n",
       "      <td>8.1</td>\n",
       "      <td>7.795991</td>\n",
       "    </tr>\n",
       "    <tr>\n",
       "      <th>11463</th>\n",
       "      <td>The Prestige</td>\n",
       "      <td>4510.0</td>\n",
       "      <td>8.0</td>\n",
       "      <td>7.735012</td>\n",
       "    </tr>\n",
       "    <tr>\n",
       "      <th>18442</th>\n",
       "      <td>The Dark Knight Rises</td>\n",
       "      <td>9263.0</td>\n",
       "      <td>7.6</td>\n",
       "      <td>7.500838</td>\n",
       "    </tr>\n",
       "    <tr>\n",
       "      <th>10210</th>\n",
       "      <td>Batman Begins</td>\n",
       "      <td>7511.0</td>\n",
       "      <td>7.5</td>\n",
       "      <td>7.394438</td>\n",
       "    </tr>\n",
       "    <tr>\n",
       "      <th>1349</th>\n",
       "      <td>Batman Returns</td>\n",
       "      <td>1706.0</td>\n",
       "      <td>6.6</td>\n",
       "      <td>6.650348</td>\n",
       "    </tr>\n",
       "    <tr>\n",
       "      <th>150</th>\n",
       "      <td>Batman Forever</td>\n",
       "      <td>1529.0</td>\n",
       "      <td>5.2</td>\n",
       "      <td>5.863747</td>\n",
       "    </tr>\n",
       "    <tr>\n",
       "      <th>31280</th>\n",
       "      <td>Batman v Superman: Dawn of Justice</td>\n",
       "      <td>7189.0</td>\n",
       "      <td>5.7</td>\n",
       "      <td>5.844355</td>\n",
       "    </tr>\n",
       "    <tr>\n",
       "      <th>1511</th>\n",
       "      <td>Batman &amp; Robin</td>\n",
       "      <td>1447.0</td>\n",
       "      <td>4.2</td>\n",
       "      <td>5.333848</td>\n",
       "    </tr>\n",
       "  </tbody>\n",
       "</table>\n",
       "</div>"
      ],
      "text/plain": [
       "                                    title  vote_count  vote_average  \\\n",
       "15651                           Inception     14075.0           8.1   \n",
       "23075                        Interstellar     11187.0           8.1   \n",
       "4126                              Memento      4168.0           8.1   \n",
       "11463                        The Prestige      4510.0           8.0   \n",
       "18442               The Dark Knight Rises      9263.0           7.6   \n",
       "10210                       Batman Begins      7511.0           7.5   \n",
       "1349                       Batman Returns      1706.0           6.6   \n",
       "150                        Batman Forever      1529.0           5.2   \n",
       "31280  Batman v Superman: Dawn of Justice      7189.0           5.7   \n",
       "1511                       Batman & Robin      1447.0           4.2   \n",
       "\n",
       "       movie_score  \n",
       "15651     7.993409  \n",
       "23075     7.968520  \n",
       "4126      7.795991  \n",
       "11463     7.735012  \n",
       "18442     7.500838  \n",
       "10210     7.394438  \n",
       "1349      6.650348  \n",
       "150       5.863747  \n",
       "31280     5.844355  \n",
       "1511      5.333848  "
      ]
     },
     "execution_count": 48,
     "metadata": {},
     "output_type": "execute_result"
    }
   ],
   "source": [
    "dict_param = {'df_movies': df_movies_small, 'movies_rel_scores': movies_rel_scores, 'nCBFs': 25, 'vote_quantile': 0.6}\n",
    "get_recommendations_from_votes('The Dark Knight', **dict_param)[['title', 'vote_count', 'vote_average', 'movie_score']]"
   ]
  },
  {
   "cell_type": "code",
   "execution_count": 49,
   "metadata": {
    "execution": {
     "iopub.execute_input": "2021-01-23T16:29:22.592935Z",
     "iopub.status.busy": "2021-01-23T16:29:22.592207Z",
     "iopub.status.idle": "2021-01-23T16:29:22.649103Z",
     "shell.execute_reply": "2021-01-23T16:29:22.648348Z"
    },
    "papermill": {
     "duration": 0.134454,
     "end_time": "2021-01-23T16:29:22.649240",
     "exception": false,
     "start_time": "2021-01-23T16:29:22.514786",
     "status": "completed"
    },
    "tags": []
   },
   "outputs": [
    {
     "data": {
      "text/html": [
       "<div>\n",
       "<style scoped>\n",
       "    .dataframe tbody tr th:only-of-type {\n",
       "        vertical-align: middle;\n",
       "    }\n",
       "\n",
       "    .dataframe tbody tr th {\n",
       "        vertical-align: top;\n",
       "    }\n",
       "\n",
       "    .dataframe thead th {\n",
       "        text-align: right;\n",
       "    }\n",
       "</style>\n",
       "<table border=\"1\" class=\"dataframe\">\n",
       "  <thead>\n",
       "    <tr style=\"text-align: right;\">\n",
       "      <th></th>\n",
       "      <th>title</th>\n",
       "      <th>vote_count</th>\n",
       "      <th>vote_average</th>\n",
       "      <th>movie_score</th>\n",
       "    </tr>\n",
       "  </thead>\n",
       "  <tbody>\n",
       "    <tr>\n",
       "      <th>1879</th>\n",
       "      <td>The Breakfast Club</td>\n",
       "      <td>2189.0</td>\n",
       "      <td>7.8</td>\n",
       "      <td>7.543356</td>\n",
       "    </tr>\n",
       "    <tr>\n",
       "      <th>436</th>\n",
       "      <td>Dazed and Confused</td>\n",
       "      <td>588.0</td>\n",
       "      <td>7.4</td>\n",
       "      <td>6.877699</td>\n",
       "    </tr>\n",
       "    <tr>\n",
       "      <th>27878</th>\n",
       "      <td>The DUFF</td>\n",
       "      <td>1372.0</td>\n",
       "      <td>6.8</td>\n",
       "      <td>6.641910</td>\n",
       "    </tr>\n",
       "    <tr>\n",
       "      <th>4612</th>\n",
       "      <td>The Princess Diaries</td>\n",
       "      <td>1063.0</td>\n",
       "      <td>6.5</td>\n",
       "      <td>6.387517</td>\n",
       "    </tr>\n",
       "    <tr>\n",
       "      <th>10422</th>\n",
       "      <td>Just Like Heaven</td>\n",
       "      <td>595.0</td>\n",
       "      <td>6.5</td>\n",
       "      <td>6.333669</td>\n",
       "    </tr>\n",
       "    <tr>\n",
       "      <th>12524</th>\n",
       "      <td>The Spiderwick Chronicles</td>\n",
       "      <td>593.0</td>\n",
       "      <td>6.3</td>\n",
       "      <td>6.211762</td>\n",
       "    </tr>\n",
       "    <tr>\n",
       "      <th>6513</th>\n",
       "      <td>Freaky Friday</td>\n",
       "      <td>919.0</td>\n",
       "      <td>6.0</td>\n",
       "      <td>6.022046</td>\n",
       "    </tr>\n",
       "    <tr>\n",
       "      <th>2392</th>\n",
       "      <td>She's All That</td>\n",
       "      <td>425.0</td>\n",
       "      <td>5.7</td>\n",
       "      <td>5.877656</td>\n",
       "    </tr>\n",
       "    <tr>\n",
       "      <th>17472</th>\n",
       "      <td>Mr. Popper's Penguins</td>\n",
       "      <td>775.0</td>\n",
       "      <td>5.7</td>\n",
       "      <td>5.823942</td>\n",
       "    </tr>\n",
       "    <tr>\n",
       "      <th>13994</th>\n",
       "      <td>Ghosts of Girlfriends Past</td>\n",
       "      <td>716.0</td>\n",
       "      <td>5.6</td>\n",
       "      <td>5.765424</td>\n",
       "    </tr>\n",
       "    <tr>\n",
       "      <th>14744</th>\n",
       "      <td>American Pie Presents: The Book of Love</td>\n",
       "      <td>454.0</td>\n",
       "      <td>5.1</td>\n",
       "      <td>5.545894</td>\n",
       "    </tr>\n",
       "  </tbody>\n",
       "</table>\n",
       "</div>"
      ],
      "text/plain": [
       "                                         title  vote_count  vote_average  \\\n",
       "1879                        The Breakfast Club      2189.0           7.8   \n",
       "436                         Dazed and Confused       588.0           7.4   \n",
       "27878                                 The DUFF      1372.0           6.8   \n",
       "4612                      The Princess Diaries      1063.0           6.5   \n",
       "10422                         Just Like Heaven       595.0           6.5   \n",
       "12524                The Spiderwick Chronicles       593.0           6.3   \n",
       "6513                             Freaky Friday       919.0           6.0   \n",
       "2392                            She's All That       425.0           5.7   \n",
       "17472                    Mr. Popper's Penguins       775.0           5.7   \n",
       "13994               Ghosts of Girlfriends Past       716.0           5.6   \n",
       "14744  American Pie Presents: The Book of Love       454.0           5.1   \n",
       "\n",
       "       movie_score  \n",
       "1879      7.543356  \n",
       "436       6.877699  \n",
       "27878     6.641910  \n",
       "4612      6.387517  \n",
       "10422     6.333669  \n",
       "12524     6.211762  \n",
       "6513      6.022046  \n",
       "2392      5.877656  \n",
       "17472     5.823942  \n",
       "13994     5.765424  \n",
       "14744     5.545894  "
      ]
     },
     "execution_count": 49,
     "metadata": {},
     "output_type": "execute_result"
    }
   ],
   "source": [
    "get_recommendations_from_votes('Mean Girls', **dict_param)[['title', 'vote_count', 'vote_average', 'movie_score']]"
   ]
  },
  {
   "cell_type": "markdown",
   "metadata": {
    "papermill": {
     "duration": 0.072521,
     "end_time": "2021-01-23T16:29:22.794490",
     "exception": false,
     "start_time": "2021-01-23T16:29:22.721969",
     "status": "completed"
    },
    "tags": []
   },
   "source": [
    "# 4. Collaborative Filtering"
   ]
  },
  {
   "cell_type": "markdown",
   "metadata": {
    "papermill": {
     "duration": 0.071862,
     "end_time": "2021-01-23T16:29:22.938950",
     "exception": false,
     "start_time": "2021-01-23T16:29:22.867088",
     "status": "completed"
    },
    "tags": []
   },
   "source": [
    "### Import Ratings"
   ]
  },
  {
   "cell_type": "code",
   "execution_count": 50,
   "metadata": {
    "execution": {
     "iopub.execute_input": "2021-01-23T16:29:23.094912Z",
     "iopub.status.busy": "2021-01-23T16:29:23.094148Z",
     "iopub.status.idle": "2021-01-23T16:29:23.209640Z",
     "shell.execute_reply": "2021-01-23T16:29:23.208902Z"
    },
    "papermill": {
     "duration": 0.198844,
     "end_time": "2021-01-23T16:29:23.209780",
     "exception": false,
     "start_time": "2021-01-23T16:29:23.010936",
     "status": "completed"
    },
    "tags": []
   },
   "outputs": [
    {
     "data": {
      "text/html": [
       "<div>\n",
       "<style scoped>\n",
       "    .dataframe tbody tr th:only-of-type {\n",
       "        vertical-align: middle;\n",
       "    }\n",
       "\n",
       "    .dataframe tbody tr th {\n",
       "        vertical-align: top;\n",
       "    }\n",
       "\n",
       "    .dataframe thead th {\n",
       "        text-align: right;\n",
       "    }\n",
       "</style>\n",
       "<table border=\"1\" class=\"dataframe\">\n",
       "  <thead>\n",
       "    <tr style=\"text-align: right;\">\n",
       "      <th></th>\n",
       "      <th>userId</th>\n",
       "      <th>movieId</th>\n",
       "      <th>rating</th>\n",
       "      <th>timestamp</th>\n",
       "    </tr>\n",
       "  </thead>\n",
       "  <tbody>\n",
       "    <tr>\n",
       "      <th>0</th>\n",
       "      <td>1</td>\n",
       "      <td>31</td>\n",
       "      <td>2.5</td>\n",
       "      <td>1260759144</td>\n",
       "    </tr>\n",
       "    <tr>\n",
       "      <th>1</th>\n",
       "      <td>1</td>\n",
       "      <td>1029</td>\n",
       "      <td>3.0</td>\n",
       "      <td>1260759179</td>\n",
       "    </tr>\n",
       "    <tr>\n",
       "      <th>2</th>\n",
       "      <td>1</td>\n",
       "      <td>1061</td>\n",
       "      <td>3.0</td>\n",
       "      <td>1260759182</td>\n",
       "    </tr>\n",
       "    <tr>\n",
       "      <th>3</th>\n",
       "      <td>1</td>\n",
       "      <td>1129</td>\n",
       "      <td>2.0</td>\n",
       "      <td>1260759185</td>\n",
       "    </tr>\n",
       "    <tr>\n",
       "      <th>4</th>\n",
       "      <td>1</td>\n",
       "      <td>1172</td>\n",
       "      <td>4.0</td>\n",
       "      <td>1260759205</td>\n",
       "    </tr>\n",
       "  </tbody>\n",
       "</table>\n",
       "</div>"
      ],
      "text/plain": [
       "   userId  movieId  rating   timestamp\n",
       "0       1       31     2.5  1260759144\n",
       "1       1     1029     3.0  1260759179\n",
       "2       1     1061     3.0  1260759182\n",
       "3       1     1129     2.0  1260759185\n",
       "4       1     1172     4.0  1260759205"
      ]
     },
     "execution_count": 50,
     "metadata": {},
     "output_type": "execute_result"
    }
   ],
   "source": [
    "df_ratings = pd.read_csv('/kaggle/input/the-movies-dataset/ratings_small.csv')\n",
    "df_ratings.head()"
   ]
  },
  {
   "cell_type": "code",
   "execution_count": 51,
   "metadata": {
    "execution": {
     "iopub.execute_input": "2021-01-23T16:29:23.362691Z",
     "iopub.status.busy": "2021-01-23T16:29:23.361680Z",
     "iopub.status.idle": "2021-01-23T16:29:23.373667Z",
     "shell.execute_reply": "2021-01-23T16:29:23.374698Z"
    },
    "papermill": {
     "duration": 0.091376,
     "end_time": "2021-01-23T16:29:23.374973",
     "exception": false,
     "start_time": "2021-01-23T16:29:23.283597",
     "status": "completed"
    },
    "tags": []
   },
   "outputs": [
    {
     "name": "stdout",
     "output_type": "stream",
     "text": [
      "<class 'pandas.core.frame.DataFrame'>\n",
      "RangeIndex: 100004 entries, 0 to 100003\n",
      "Data columns (total 4 columns):\n",
      " #   Column     Non-Null Count   Dtype  \n",
      "---  ------     --------------   -----  \n",
      " 0   userId     100004 non-null  int64  \n",
      " 1   movieId    100004 non-null  int64  \n",
      " 2   rating     100004 non-null  float64\n",
      " 3   timestamp  100004 non-null  int64  \n",
      "dtypes: float64(1), int64(3)\n",
      "memory usage: 3.1 MB\n"
     ]
    }
   ],
   "source": [
    "df_ratings.info()"
   ]
  },
  {
   "cell_type": "markdown",
   "metadata": {
    "papermill": {
     "duration": 0.073119,
     "end_time": "2021-01-23T16:29:23.521971",
     "exception": false,
     "start_time": "2021-01-23T16:29:23.448852",
     "status": "completed"
    },
    "tags": []
   },
   "source": [
    "### Import the Recommender package - Surprise"
   ]
  },
  {
   "cell_type": "code",
   "execution_count": 52,
   "metadata": {
    "execution": {
     "iopub.execute_input": "2021-01-23T16:29:23.677405Z",
     "iopub.status.busy": "2021-01-23T16:29:23.676685Z",
     "iopub.status.idle": "2021-01-23T16:30:11.226531Z",
     "shell.execute_reply": "2021-01-23T16:30:11.225977Z"
    },
    "papermill": {
     "duration": 47.631901,
     "end_time": "2021-01-23T16:30:11.226694",
     "exception": false,
     "start_time": "2021-01-23T16:29:23.594793",
     "status": "completed"
    },
    "tags": []
   },
   "outputs": [
    {
     "name": "stdout",
     "output_type": "stream",
     "text": [
      "Evaluating RMSE, MAE of algorithm SVD on 5 split(s).\n",
      "\n",
      "                  Fold 1  Fold 2  Fold 3  Fold 4  Fold 5  Mean    Std     \n",
      "RMSE (testset)    0.8944  0.8968  0.9015  0.8987  0.8919  0.8967  0.0033  \n",
      "MAE (testset)     0.6893  0.6924  0.6924  0.6934  0.6855  0.6906  0.0029  \n",
      "Fit time          8.76    8.87    8.86    8.98    8.85    8.86    0.07    \n",
      "Test time         0.26    0.40    0.26    0.34    0.41    0.34    0.06    \n"
     ]
    },
    {
     "data": {
      "text/plain": [
       "{'test_rmse': array([0.89442378, 0.89676707, 0.90147306, 0.89870364, 0.89194357]),\n",
       " 'test_mae': array([0.6892653 , 0.69242912, 0.69241913, 0.69335506, 0.68546358]),\n",
       " 'fit_time': (8.759292125701904,\n",
       "  8.865005254745483,\n",
       "  8.858376026153564,\n",
       "  8.97715711593628,\n",
       "  8.846213340759277),\n",
       " 'test_time': (0.2621779441833496,\n",
       "  0.40216755867004395,\n",
       "  0.26241040229797363,\n",
       "  0.34165406227111816,\n",
       "  0.4101834297180176)}"
      ]
     },
     "execution_count": 52,
     "metadata": {},
     "output_type": "execute_result"
    }
   ],
   "source": [
    "from surprise import Reader, Dataset, SVD\n",
    "from surprise.model_selection.validation import cross_validate\n",
    "\n",
    "reader = Reader()\n",
    "data = Dataset.load_from_df(df_ratings[['userId', 'movieId', 'rating']], reader)\n",
    "\n",
    "algo = SVD()\n",
    "cross_validate(algo, data, measures=['RMSE', 'MAE'], cv=5, verbose=True)"
   ]
  },
  {
   "cell_type": "markdown",
   "metadata": {
    "papermill": {
     "duration": 0.073472,
     "end_time": "2021-01-23T16:30:11.373774",
     "exception": false,
     "start_time": "2021-01-23T16:30:11.300302",
     "status": "completed"
    },
    "tags": []
   },
   "source": [
    "Average RMSE 0.8968 - good enough to train in fullset"
   ]
  },
  {
   "cell_type": "code",
   "execution_count": 53,
   "metadata": {
    "execution": {
     "iopub.execute_input": "2021-01-23T16:30:11.539468Z",
     "iopub.status.busy": "2021-01-23T16:30:11.534226Z",
     "iopub.status.idle": "2021-01-23T16:30:22.241308Z",
     "shell.execute_reply": "2021-01-23T16:30:22.241902Z"
    },
    "papermill": {
     "duration": 10.792608,
     "end_time": "2021-01-23T16:30:22.242071",
     "exception": false,
     "start_time": "2021-01-23T16:30:11.449463",
     "status": "completed"
    },
    "tags": []
   },
   "outputs": [
    {
     "data": {
      "text/plain": [
       "<surprise.prediction_algorithms.matrix_factorization.SVD at 0x7f6947eae1d0>"
      ]
     },
     "execution_count": 53,
     "metadata": {},
     "output_type": "execute_result"
    }
   ],
   "source": [
    "trainset = data.build_full_trainset()\n",
    "algo.fit(trainset)"
   ]
  },
  {
   "cell_type": "markdown",
   "metadata": {
    "papermill": {
     "duration": 0.073459,
     "end_time": "2021-01-23T16:30:22.389271",
     "exception": false,
     "start_time": "2021-01-23T16:30:22.315812",
     "status": "completed"
    },
    "tags": []
   },
   "source": [
    "Predict the rating given the user and movid id"
   ]
  },
  {
   "cell_type": "code",
   "execution_count": 54,
   "metadata": {
    "execution": {
     "iopub.execute_input": "2021-01-23T16:30:22.545860Z",
     "iopub.status.busy": "2021-01-23T16:30:22.544978Z",
     "iopub.status.idle": "2021-01-23T16:30:22.547790Z",
     "shell.execute_reply": "2021-01-23T16:30:22.548279Z"
    },
    "papermill": {
     "duration": 0.084708,
     "end_time": "2021-01-23T16:30:22.548457",
     "exception": false,
     "start_time": "2021-01-23T16:30:22.463749",
     "status": "completed"
    },
    "tags": []
   },
   "outputs": [
    {
     "name": "stdout",
     "output_type": "stream",
     "text": [
      "user: 1          item: 302        r_ui = None   est = 3.54   {'was_impossible': False}\n"
     ]
    }
   ],
   "source": [
    "uid = str(1) # user ID\n",
    "iid = str(302) # movie ID\n",
    "pred = algo.predict(uid, iid, verbose=True)"
   ]
  },
  {
   "cell_type": "markdown",
   "metadata": {
    "papermill": {
     "duration": 0.07405,
     "end_time": "2021-01-23T16:30:22.698835",
     "exception": false,
     "start_time": "2021-01-23T16:30:22.624785",
     "status": "completed"
    },
    "tags": []
   },
   "source": [
    "# 5. Conclusion - Hybrid (Collabrate Filtering Score after Content Base Filtering)"
   ]
  },
  {
   "cell_type": "code",
   "execution_count": 55,
   "metadata": {
    "execution": {
     "iopub.execute_input": "2021-01-23T16:30:22.860242Z",
     "iopub.status.busy": "2021-01-23T16:30:22.859279Z",
     "iopub.status.idle": "2021-01-23T16:30:22.893900Z",
     "shell.execute_reply": "2021-01-23T16:30:22.893134Z"
    },
    "papermill": {
     "duration": 0.120987,
     "end_time": "2021-01-23T16:30:22.894029",
     "exception": false,
     "start_time": "2021-01-23T16:30:22.773042",
     "status": "completed"
    },
    "tags": []
   },
   "outputs": [],
   "source": [
    "def convert_int(x):\n",
    "    try:\n",
    "        return int(x)\n",
    "    except:\n",
    "        return np.nan\n",
    "    \n",
    "id_map = pd.read_csv('/kaggle/input/the-movies-dataset/links_small.csv')[['movieId', 'tmdbId']]\n",
    "id_map['tmdbId'] = id_map['tmdbId'].apply(convert_int)\n",
    "id_map.columns = ['movieId', 'id']\n",
    "id_map = id_map.merge(df_movies_small[['title', 'id']], on='id').set_index('title')\n",
    "id_map['id'] = id_map['id'].astype('int')"
   ]
  },
  {
   "cell_type": "code",
   "execution_count": 56,
   "metadata": {
    "execution": {
     "iopub.execute_input": "2021-01-23T16:30:23.050705Z",
     "iopub.status.busy": "2021-01-23T16:30:23.049970Z",
     "iopub.status.idle": "2021-01-23T16:30:23.063349Z",
     "shell.execute_reply": "2021-01-23T16:30:23.062760Z"
    },
    "papermill": {
     "duration": 0.094368,
     "end_time": "2021-01-23T16:30:23.063459",
     "exception": false,
     "start_time": "2021-01-23T16:30:22.969091",
     "status": "completed"
    },
    "tags": []
   },
   "outputs": [
    {
     "data": {
      "text/html": [
       "<div>\n",
       "<style scoped>\n",
       "    .dataframe tbody tr th:only-of-type {\n",
       "        vertical-align: middle;\n",
       "    }\n",
       "\n",
       "    .dataframe tbody tr th {\n",
       "        vertical-align: top;\n",
       "    }\n",
       "\n",
       "    .dataframe thead th {\n",
       "        text-align: right;\n",
       "    }\n",
       "</style>\n",
       "<table border=\"1\" class=\"dataframe\">\n",
       "  <thead>\n",
       "    <tr style=\"text-align: right;\">\n",
       "      <th></th>\n",
       "      <th>movieId</th>\n",
       "      <th>id</th>\n",
       "    </tr>\n",
       "    <tr>\n",
       "      <th>title</th>\n",
       "      <th></th>\n",
       "      <th></th>\n",
       "    </tr>\n",
       "  </thead>\n",
       "  <tbody>\n",
       "    <tr>\n",
       "      <th>Toy Story</th>\n",
       "      <td>1</td>\n",
       "      <td>862</td>\n",
       "    </tr>\n",
       "    <tr>\n",
       "      <th>Jumanji</th>\n",
       "      <td>2</td>\n",
       "      <td>8844</td>\n",
       "    </tr>\n",
       "    <tr>\n",
       "      <th>Grumpier Old Men</th>\n",
       "      <td>3</td>\n",
       "      <td>15602</td>\n",
       "    </tr>\n",
       "    <tr>\n",
       "      <th>Waiting to Exhale</th>\n",
       "      <td>4</td>\n",
       "      <td>31357</td>\n",
       "    </tr>\n",
       "    <tr>\n",
       "      <th>Father of the Bride Part II</th>\n",
       "      <td>5</td>\n",
       "      <td>11862</td>\n",
       "    </tr>\n",
       "    <tr>\n",
       "      <th>...</th>\n",
       "      <td>...</td>\n",
       "      <td>...</td>\n",
       "    </tr>\n",
       "    <tr>\n",
       "      <th>The Last Brickmaker in America</th>\n",
       "      <td>161944</td>\n",
       "      <td>159550</td>\n",
       "    </tr>\n",
       "    <tr>\n",
       "      <th>Rustom</th>\n",
       "      <td>162542</td>\n",
       "      <td>392572</td>\n",
       "    </tr>\n",
       "    <tr>\n",
       "      <th>Mohenjo Daro</th>\n",
       "      <td>162672</td>\n",
       "      <td>402672</td>\n",
       "    </tr>\n",
       "    <tr>\n",
       "      <th>Shin Godzilla</th>\n",
       "      <td>163056</td>\n",
       "      <td>315011</td>\n",
       "    </tr>\n",
       "    <tr>\n",
       "      <th>The Beatles: Eight Days a Week - The Touring Years</th>\n",
       "      <td>163949</td>\n",
       "      <td>391698</td>\n",
       "    </tr>\n",
       "  </tbody>\n",
       "</table>\n",
       "<p>9219 rows × 2 columns</p>\n",
       "</div>"
      ],
      "text/plain": [
       "                                                    movieId      id\n",
       "title                                                              \n",
       "Toy Story                                                 1     862\n",
       "Jumanji                                                   2    8844\n",
       "Grumpier Old Men                                          3   15602\n",
       "Waiting to Exhale                                         4   31357\n",
       "Father of the Bride Part II                               5   11862\n",
       "...                                                     ...     ...\n",
       "The Last Brickmaker in America                       161944  159550\n",
       "Rustom                                               162542  392572\n",
       "Mohenjo Daro                                         162672  402672\n",
       "Shin Godzilla                                        163056  315011\n",
       "The Beatles: Eight Days a Week - The Touring Years   163949  391698\n",
       "\n",
       "[9219 rows x 2 columns]"
      ]
     },
     "execution_count": 56,
     "metadata": {},
     "output_type": "execute_result"
    }
   ],
   "source": [
    "id_map"
   ]
  },
  {
   "cell_type": "code",
   "execution_count": 57,
   "metadata": {
    "execution": {
     "iopub.execute_input": "2021-01-23T16:30:23.226129Z",
     "iopub.status.busy": "2021-01-23T16:30:23.225451Z",
     "iopub.status.idle": "2021-01-23T16:30:23.229473Z",
     "shell.execute_reply": "2021-01-23T16:30:23.228938Z"
    },
    "papermill": {
     "duration": 0.090938,
     "end_time": "2021-01-23T16:30:23.229608",
     "exception": false,
     "start_time": "2021-01-23T16:30:23.138670",
     "status": "completed"
    },
    "tags": []
   },
   "outputs": [],
   "source": [
    "def hybrid(userId, title, id_map, df_movies, movies_rel_scores, nCBFs):\n",
    "    \n",
    "    indices_map = id_map.set_index('id')\n",
    "    \n",
    "    tmdbId = id_map.loc[title]['id']\n",
    "    movie_id = id_map.loc[title]['movieId']\n",
    "    \n",
    "    CBF_recommended = get_recommendations(title, df_movies, movies_rel_scores).head(nCBFs)\n",
    "    CBF_titles = CBF_recommended.title\n",
    "    df_movies_CBF = df_movies[df_movies.title.isin(CBF_titles)]\n",
    "    \n",
    "    movies = df_movies_CBF[['title', 'vote_count', 'vote_average',  'id']]\n",
    "    movies['est'] = movies['id'].apply(lambda x: algo.predict(userId, indices_map.loc[x]['movieId']).est)\n",
    "    movies = movies.sort_values('est', ascending=False)\n",
    "    return movies"
   ]
  },
  {
   "cell_type": "code",
   "execution_count": 58,
   "metadata": {
    "execution": {
     "iopub.execute_input": "2021-01-23T16:30:23.386920Z",
     "iopub.status.busy": "2021-01-23T16:30:23.386237Z",
     "iopub.status.idle": "2021-01-23T16:30:23.444740Z",
     "shell.execute_reply": "2021-01-23T16:30:23.445257Z"
    },
    "papermill": {
     "duration": 0.140681,
     "end_time": "2021-01-23T16:30:23.445415",
     "exception": false,
     "start_time": "2021-01-23T16:30:23.304734",
     "status": "completed"
    },
    "tags": []
   },
   "outputs": [
    {
     "name": "stderr",
     "output_type": "stream",
     "text": [
      "/opt/conda/lib/python3.7/site-packages/ipykernel_launcher.py:13: SettingWithCopyWarning: \n",
      "A value is trying to be set on a copy of a slice from a DataFrame.\n",
      "Try using .loc[row_indexer,col_indexer] = value instead\n",
      "\n",
      "See the caveats in the documentation: https://pandas.pydata.org/pandas-docs/stable/user_guide/indexing.html#returning-a-view-versus-a-copy\n",
      "  del sys.path[0]\n"
     ]
    },
    {
     "data": {
      "text/html": [
       "<div>\n",
       "<style scoped>\n",
       "    .dataframe tbody tr th:only-of-type {\n",
       "        vertical-align: middle;\n",
       "    }\n",
       "\n",
       "    .dataframe tbody tr th {\n",
       "        vertical-align: top;\n",
       "    }\n",
       "\n",
       "    .dataframe thead th {\n",
       "        text-align: right;\n",
       "    }\n",
       "</style>\n",
       "<table border=\"1\" class=\"dataframe\">\n",
       "  <thead>\n",
       "    <tr style=\"text-align: right;\">\n",
       "      <th></th>\n",
       "      <th>title</th>\n",
       "      <th>vote_count</th>\n",
       "      <th>vote_average</th>\n",
       "      <th>id</th>\n",
       "      <th>est</th>\n",
       "    </tr>\n",
       "  </thead>\n",
       "  <tbody>\n",
       "    <tr>\n",
       "      <th>1216</th>\n",
       "      <td>The Terminator</td>\n",
       "      <td>4208.0</td>\n",
       "      <td>7.4</td>\n",
       "      <td>218</td>\n",
       "      <td>3.091543</td>\n",
       "    </tr>\n",
       "    <tr>\n",
       "      <th>23554</th>\n",
       "      <td>X-Men: Days of Future Past</td>\n",
       "      <td>6155.0</td>\n",
       "      <td>7.5</td>\n",
       "      <td>127585</td>\n",
       "      <td>3.062526</td>\n",
       "    </tr>\n",
       "    <tr>\n",
       "      <th>21122</th>\n",
       "      <td>Star Trek Into Darkness</td>\n",
       "      <td>4479.0</td>\n",
       "      <td>7.4</td>\n",
       "      <td>54138</td>\n",
       "      <td>3.039442</td>\n",
       "    </tr>\n",
       "    <tr>\n",
       "      <th>1954</th>\n",
       "      <td>Darby O'Gill and the Little People</td>\n",
       "      <td>35.0</td>\n",
       "      <td>6.7</td>\n",
       "      <td>18887</td>\n",
       "      <td>2.999822</td>\n",
       "    </tr>\n",
       "    <tr>\n",
       "      <th>2402</th>\n",
       "      <td>Fantastic Planet</td>\n",
       "      <td>140.0</td>\n",
       "      <td>7.6</td>\n",
       "      <td>16306</td>\n",
       "      <td>2.906560</td>\n",
       "    </tr>\n",
       "    <tr>\n",
       "      <th>582</th>\n",
       "      <td>Terminator 2: Judgment Day</td>\n",
       "      <td>4274.0</td>\n",
       "      <td>7.7</td>\n",
       "      <td>280</td>\n",
       "      <td>2.893234</td>\n",
       "    </tr>\n",
       "    <tr>\n",
       "      <th>1659</th>\n",
       "      <td>Titanic</td>\n",
       "      <td>7770.0</td>\n",
       "      <td>7.5</td>\n",
       "      <td>597</td>\n",
       "      <td>2.783828</td>\n",
       "    </tr>\n",
       "    <tr>\n",
       "      <th>12993</th>\n",
       "      <td>Star Wars: The Clone Wars</td>\n",
       "      <td>434.0</td>\n",
       "      <td>5.8</td>\n",
       "      <td>12180</td>\n",
       "      <td>2.773947</td>\n",
       "    </tr>\n",
       "    <tr>\n",
       "      <th>2002</th>\n",
       "      <td>Return from Witch Mountain</td>\n",
       "      <td>38.0</td>\n",
       "      <td>5.6</td>\n",
       "      <td>14822</td>\n",
       "      <td>2.768705</td>\n",
       "    </tr>\n",
       "    <tr>\n",
       "      <th>1179</th>\n",
       "      <td>Aliens</td>\n",
       "      <td>3282.0</td>\n",
       "      <td>7.7</td>\n",
       "      <td>679</td>\n",
       "      <td>2.754359</td>\n",
       "    </tr>\n",
       "  </tbody>\n",
       "</table>\n",
       "</div>"
      ],
      "text/plain": [
       "                                    title  vote_count  vote_average      id  \\\n",
       "1216                       The Terminator      4208.0           7.4     218   \n",
       "23554          X-Men: Days of Future Past      6155.0           7.5  127585   \n",
       "21122             Star Trek Into Darkness      4479.0           7.4   54138   \n",
       "1954   Darby O'Gill and the Little People        35.0           6.7   18887   \n",
       "2402                     Fantastic Planet       140.0           7.6   16306   \n",
       "582            Terminator 2: Judgment Day      4274.0           7.7     280   \n",
       "1659                              Titanic      7770.0           7.5     597   \n",
       "12993           Star Wars: The Clone Wars       434.0           5.8   12180   \n",
       "2002           Return from Witch Mountain        38.0           5.6   14822   \n",
       "1179                               Aliens      3282.0           7.7     679   \n",
       "\n",
       "            est  \n",
       "1216   3.091543  \n",
       "23554  3.062526  \n",
       "21122  3.039442  \n",
       "1954   2.999822  \n",
       "2402   2.906560  \n",
       "582    2.893234  \n",
       "1659   2.783828  \n",
       "12993  2.773947  \n",
       "2002   2.768705  \n",
       "1179   2.754359  "
      ]
     },
     "execution_count": 58,
     "metadata": {},
     "output_type": "execute_result"
    }
   ],
   "source": [
    "dict_param = {'id_map': id_map, 'df_movies': df_movies_small, 'movies_rel_scores': movies_rel_scores, 'nCBFs': 25}\n",
    "hybrid(1, title='Avatar', **dict_param).head(10)"
   ]
  },
  {
   "cell_type": "code",
   "execution_count": 59,
   "metadata": {
    "execution": {
     "iopub.execute_input": "2021-01-23T16:30:23.607217Z",
     "iopub.status.busy": "2021-01-23T16:30:23.604209Z",
     "iopub.status.idle": "2021-01-23T16:30:23.662783Z",
     "shell.execute_reply": "2021-01-23T16:30:23.662167Z"
    },
    "papermill": {
     "duration": 0.141285,
     "end_time": "2021-01-23T16:30:23.662915",
     "exception": false,
     "start_time": "2021-01-23T16:30:23.521630",
     "status": "completed"
    },
    "tags": []
   },
   "outputs": [
    {
     "name": "stderr",
     "output_type": "stream",
     "text": [
      "/opt/conda/lib/python3.7/site-packages/ipykernel_launcher.py:13: SettingWithCopyWarning: \n",
      "A value is trying to be set on a copy of a slice from a DataFrame.\n",
      "Try using .loc[row_indexer,col_indexer] = value instead\n",
      "\n",
      "See the caveats in the documentation: https://pandas.pydata.org/pandas-docs/stable/user_guide/indexing.html#returning-a-view-versus-a-copy\n",
      "  del sys.path[0]\n"
     ]
    },
    {
     "data": {
      "text/html": [
       "<div>\n",
       "<style scoped>\n",
       "    .dataframe tbody tr th:only-of-type {\n",
       "        vertical-align: middle;\n",
       "    }\n",
       "\n",
       "    .dataframe tbody tr th {\n",
       "        vertical-align: top;\n",
       "    }\n",
       "\n",
       "    .dataframe thead th {\n",
       "        text-align: right;\n",
       "    }\n",
       "</style>\n",
       "<table border=\"1\" class=\"dataframe\">\n",
       "  <thead>\n",
       "    <tr style=\"text-align: right;\">\n",
       "      <th></th>\n",
       "      <th>title</th>\n",
       "      <th>vote_count</th>\n",
       "      <th>vote_average</th>\n",
       "      <th>id</th>\n",
       "      <th>est</th>\n",
       "    </tr>\n",
       "  </thead>\n",
       "  <tbody>\n",
       "    <tr>\n",
       "      <th>23554</th>\n",
       "      <td>X-Men: Days of Future Past</td>\n",
       "      <td>6155.0</td>\n",
       "      <td>7.5</td>\n",
       "      <td>127585</td>\n",
       "      <td>3.369193</td>\n",
       "    </tr>\n",
       "    <tr>\n",
       "      <th>1659</th>\n",
       "      <td>Titanic</td>\n",
       "      <td>7770.0</td>\n",
       "      <td>7.5</td>\n",
       "      <td>597</td>\n",
       "      <td>3.360472</td>\n",
       "    </tr>\n",
       "    <tr>\n",
       "      <th>1179</th>\n",
       "      <td>Aliens</td>\n",
       "      <td>3282.0</td>\n",
       "      <td>7.7</td>\n",
       "      <td>679</td>\n",
       "      <td>3.245059</td>\n",
       "    </tr>\n",
       "    <tr>\n",
       "      <th>21122</th>\n",
       "      <td>Star Trek Into Darkness</td>\n",
       "      <td>4479.0</td>\n",
       "      <td>7.4</td>\n",
       "      <td>54138</td>\n",
       "      <td>3.210479</td>\n",
       "    </tr>\n",
       "    <tr>\n",
       "      <th>2402</th>\n",
       "      <td>Fantastic Planet</td>\n",
       "      <td>140.0</td>\n",
       "      <td>7.6</td>\n",
       "      <td>16306</td>\n",
       "      <td>3.179197</td>\n",
       "    </tr>\n",
       "    <tr>\n",
       "      <th>2002</th>\n",
       "      <td>Return from Witch Mountain</td>\n",
       "      <td>38.0</td>\n",
       "      <td>5.6</td>\n",
       "      <td>14822</td>\n",
       "      <td>3.142306</td>\n",
       "    </tr>\n",
       "    <tr>\n",
       "      <th>13710</th>\n",
       "      <td>Dragonball Evolution</td>\n",
       "      <td>475.0</td>\n",
       "      <td>2.9</td>\n",
       "      <td>14164</td>\n",
       "      <td>3.091213</td>\n",
       "    </tr>\n",
       "    <tr>\n",
       "      <th>6912</th>\n",
       "      <td>Hercules in New York</td>\n",
       "      <td>63.0</td>\n",
       "      <td>3.7</td>\n",
       "      <td>5227</td>\n",
       "      <td>2.920004</td>\n",
       "    </tr>\n",
       "    <tr>\n",
       "      <th>3712</th>\n",
       "      <td>Sinbad and the Eye of the Tiger</td>\n",
       "      <td>39.0</td>\n",
       "      <td>6.3</td>\n",
       "      <td>11940</td>\n",
       "      <td>2.917309</td>\n",
       "    </tr>\n",
       "    <tr>\n",
       "      <th>1113</th>\n",
       "      <td>The Abyss</td>\n",
       "      <td>822.0</td>\n",
       "      <td>7.1</td>\n",
       "      <td>2756</td>\n",
       "      <td>2.910822</td>\n",
       "    </tr>\n",
       "  </tbody>\n",
       "</table>\n",
       "</div>"
      ],
      "text/plain": [
       "                                 title  vote_count  vote_average      id  \\\n",
       "23554       X-Men: Days of Future Past      6155.0           7.5  127585   \n",
       "1659                           Titanic      7770.0           7.5     597   \n",
       "1179                            Aliens      3282.0           7.7     679   \n",
       "21122          Star Trek Into Darkness      4479.0           7.4   54138   \n",
       "2402                  Fantastic Planet       140.0           7.6   16306   \n",
       "2002        Return from Witch Mountain        38.0           5.6   14822   \n",
       "13710             Dragonball Evolution       475.0           2.9   14164   \n",
       "6912              Hercules in New York        63.0           3.7    5227   \n",
       "3712   Sinbad and the Eye of the Tiger        39.0           6.3   11940   \n",
       "1113                         The Abyss       822.0           7.1    2756   \n",
       "\n",
       "            est  \n",
       "23554  3.369193  \n",
       "1659   3.360472  \n",
       "1179   3.245059  \n",
       "21122  3.210479  \n",
       "2402   3.179197  \n",
       "2002   3.142306  \n",
       "13710  3.091213  \n",
       "6912   2.920004  \n",
       "3712   2.917309  \n",
       "1113   2.910822  "
      ]
     },
     "execution_count": 59,
     "metadata": {},
     "output_type": "execute_result"
    }
   ],
   "source": [
    "hybrid(500, title='Avatar', **dict_param).head(10)"
   ]
  }
 ],
 "metadata": {
  "kernelspec": {
   "display_name": "Python 3",
   "language": "python",
   "name": "python3"
  },
  "language_info": {
   "codemirror_mode": {
    "name": "ipython",
    "version": 3
   },
   "file_extension": ".py",
   "mimetype": "text/x-python",
   "name": "python",
   "nbconvert_exporter": "python",
   "pygments_lexer": "ipython3",
   "version": "3.7.6"
  },
  "papermill": {
   "duration": 116.895246,
   "end_time": "2021-01-23T16:30:23.849711",
   "environment_variables": {},
   "exception": null,
   "input_path": "__notebook__.ipynb",
   "output_path": "__notebook__.ipynb",
   "parameters": {},
   "start_time": "2021-01-23T16:28:26.954465",
   "version": "2.1.0"
  }
 },
 "nbformat": 4,
 "nbformat_minor": 4
}
