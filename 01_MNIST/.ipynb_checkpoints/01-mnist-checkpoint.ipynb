{
 "cells": [
  {
   "cell_type": "markdown",
   "metadata": {},
   "source": [
    "# Download Data & Initialize"
   ]
  },
  {
   "cell_type": "code",
   "execution_count": 1,
   "metadata": {},
   "outputs": [],
   "source": [
    "import numpy as np\n",
    "import pandas as pd"
   ]
  },
  {
   "cell_type": "code",
   "execution_count": null,
   "metadata": {
    "_cell_guid": "b1076dfc-b9ad-4769-8c92-a6c4dae69d19",
    "_uuid": "8f2839f25d086af736a60e9eeb907d3b93b6e0e5"
   },
   "outputs": [],
   "source": [
    "# Run this if you need to install kaggle API\n",
    "# !pip install kaggle\n",
    "\n",
    "kaggle_name = input('Input your Kaggle API Username:')\n",
    "kaggle_key = input('Input your Kaggle API key:')\n",
    "\n",
    "!set KAGGLE_USERNAME=$kaggle_name\n",
    "!set KAGGLE_KEY=$kaggle_key"
   ]
  },
  {
   "cell_type": "code",
   "execution_count": 4,
   "metadata": {
    "scrolled": true
   },
   "outputs": [
    {
     "name": "stdout",
     "output_type": "stream",
     "text": [
      "digit-recognizer.zip: Skipping, found more recently modified local copy (use --force to force download)\n",
      ".\\01-mnist.ipynb\n",
      ".\\digit-recognizer.zip\n",
      ".\\.ipynb_checkpoints\\01-mnist-checkpoint.ipynb\n"
     ]
    }
   ],
   "source": [
    "# try to download datasets\n",
    "!kaggle competitions download -c digit-recognizer\n",
    "\n",
    "import os\n",
    "for dirname, _, filenames in os.walk('.'):\n",
    "    for filename in filenames:\n",
    "        print(os.path.join(dirname, filename))"
   ]
  },
  {
   "cell_type": "code",
   "execution_count": 6,
   "metadata": {},
   "outputs": [
    {
     "name": "stdout",
     "output_type": "stream",
     "text": [
      ".\\01-mnist.ipynb\n",
      ".\\digit-recognizer.zip\n",
      ".\\.ipynb_checkpoints\\01-mnist-checkpoint.ipynb\n",
      ".\\digit-recognizer\\sample_submission.csv\n",
      ".\\digit-recognizer\\test.csv\n",
      ".\\digit-recognizer\\train.csv\n"
     ]
    }
   ],
   "source": [
    "# unzip to extract data\n",
    "import zipfile\n",
    "with zipfile.ZipFile('digit-recognizer.zip', 'r') as zip_ref:\n",
    "    zip_ref.extractall('digit-recognizer')\n",
    "    \n",
    "for dirname, _, filenames in os.walk('.'):\n",
    "    for filename in filenames:\n",
    "        print(os.path.join(dirname, filename))"
   ]
  },
  {
   "cell_type": "markdown",
   "metadata": {},
   "source": [
    "# Import Packages"
   ]
  },
  {
   "cell_type": "code",
   "execution_count": 7,
   "metadata": {},
   "outputs": [],
   "source": [
    "import os, sys\n",
    "import tensorflow as tf\n",
    "import pandas as pd\n",
    "import numpy as np\n",
    "from datetime import datetime as dt\n",
    "import sklearn.metrics\n",
    "from sklearn.model_selection import train_test_split\n",
    "import seaborn as sns\n",
    "\n",
    "from matplotlib import pyplot as plt\n",
    "from keras import backend\n",
    "from tensorflow.keras.preprocessing.image import ImageDataGenerator\n",
    "from tensorflow.keras.callbacks import ReduceLROnPlateau"
   ]
  },
  {
   "cell_type": "code",
   "execution_count": 8,
   "metadata": {},
   "outputs": [],
   "source": [
    "dataFolder = './digit-recognizer/'\n",
    "img_rows = 28\n",
    "img_cols = 28\n",
    "\n",
    "INPUT_SHAPE = (img_rows, img_cols, 1)\n",
    "N_LABELS = 2"
   ]
  },
  {
   "cell_type": "markdown",
   "metadata": {
    "_cell_guid": "79c7e3d0-c299-4dcb-8224-4455121ee9b0",
    "_uuid": "d629ff2d2480ee46fbb7e2d37f6b5fab8052498a",
    "collapsed": true
   },
   "source": [
    "# Import Data"
   ]
  },
  {
   "cell_type": "code",
   "execution_count": 9,
   "metadata": {},
   "outputs": [
    {
     "name": "stdout",
     "output_type": "stream",
     "text": [
      "2021-05-03 00:22:28.756907 The df shape:(42000, 785)\n",
      "(42000, 785) Index(['label', 'pixel0', 'pixel1', 'pixel2', 'pixel3', 'pixel4', 'pixel5',\n",
      "       'pixel6', 'pixel7', 'pixel8',\n",
      "       ...\n",
      "       'pixel774', 'pixel775', 'pixel776', 'pixel777', 'pixel778', 'pixel779',\n",
      "       'pixel780', 'pixel781', 'pixel782', 'pixel783'],\n",
      "      dtype='object', length=785)\n"
     ]
    }
   ],
   "source": [
    "df = pd.read_csv(os.path.join(dataFolder, 'train.csv'))\n",
    "print(dt.now(), 'The df shape:{}'.format(df.shape))\n",
    "print(df.shape, df.columns)"
   ]
  },
  {
   "cell_type": "code",
   "execution_count": 10,
   "metadata": {},
   "outputs": [
    {
     "name": "stdout",
     "output_type": "stream",
     "text": [
      "2021-05-03 00:22:37.793376 Reshape done. X'shape: (42000, 28, 28, 1); y'shape: (42000,)\n"
     ]
    }
   ],
   "source": [
    "# Reshape to be tf feasible\n",
    "X = df.drop('label', axis=1).values.reshape(df.shape[0], img_rows, img_cols, 1)\n",
    "y = df.label.values\n",
    "print(dt.now(), 'Reshape done. X\\'shape: {}; y\\'shape: {}'.format(X.shape, y.shape))"
   ]
  },
  {
   "cell_type": "code",
   "execution_count": 11,
   "metadata": {},
   "outputs": [
    {
     "name": "stdout",
     "output_type": "stream",
     "text": [
      "shapes of train set:  (34020, 28, 28, 1) (34020,)\n",
      "shapes of dev set:  (3780, 28, 28, 1) (3780,)\n",
      "shapes of test set:  (4200, 28, 28, 1) (4200,)\n",
      "no. of data for train, dev, test 34020 3780 4200\n"
     ]
    }
   ],
   "source": [
    "# Split train-dev dataset\n",
    "X_train, X_test, y_train, y_test = train_test_split(X, y, test_size=0.1, random_state=9527, stratify=y)\n",
    "X_train, X_dev, y_train, y_dev = train_test_split(X_train, y_train, test_size=0.1, random_state=9527, stratify=y_train)\n",
    "\n",
    "print('shapes of train set: ', X_train.shape, y_train.shape)\n",
    "print('shapes of dev set: ', X_dev.shape, y_dev.shape)\n",
    "print('shapes of test set: ', X_test.shape, y_test.shape)\n",
    "\n",
    "n_train, n_dev, n_test = X_train.shape[0], X_dev.shape[0], X_test.shape[0]\n",
    "\n",
    "print('no. of data for train, dev, test', n_train, n_dev, n_test)"
   ]
  },
  {
   "cell_type": "code",
   "execution_count": 12,
   "metadata": {},
   "outputs": [
    {
     "name": "stdout",
     "output_type": "stream",
     "text": [
      "Label: 9 Image Max Value: 255\n"
     ]
    },
    {
     "data": {
      "image/png": "[encoded data removed]",
      "text/plain": [
       "<Figure size 432x288 with 1 Axes>"
      ]
     },
     "metadata": {
      "needs_background": "light"
     },
     "output_type": "display_data"
    }
   ],
   "source": [
    "# check data structure\n",
    "image = X_train[0,].squeeze()\n",
    "label = y_train[0]\n",
    "\n",
    "print(\"Label: {}\".format(label), \"Image Max Value: {}\".format(image.max()))\n",
    "plt.imshow(image, cmap=plt.cm.binary)\n",
    "plt.show()"
   ]
  },
  {
   "cell_type": "code",
   "execution_count": 13,
   "metadata": {},
   "outputs": [
    {
     "data": {
      "text/plain": [
       "<matplotlib.axes._subplots.AxesSubplot at 0x2bebc639cd0>"
      ]
     },
     "execution_count": 13,
     "metadata": {},
     "output_type": "execute_result"
    },
    {
     "data": {
      "image/png": "[encoded data removed]",
      "text/plain": [
       "<Figure size 432x288 with 1 Axes>"
      ]
     },
     "metadata": {
      "needs_background": "light"
     },
     "output_type": "display_data"
    }
   ],
   "source": [
    "# Distribution of Response\n",
    "sns.countplot(y_train)"
   ]
  },
  {
   "cell_type": "markdown",
   "metadata": {},
   "source": [
    "# Pre-Process Data"
   ]
  },
  {
   "cell_type": "code",
   "execution_count": 14,
   "metadata": {},
   "outputs": [],
   "source": [
    "def preprocessor(imgs, labels):\n",
    "    imgs = imgs.astype('float32')\n",
    "    imgs /= 255.0\n",
    "    return imgs, labels"
   ]
  },
  {
   "cell_type": "code",
   "execution_count": 15,
   "metadata": {},
   "outputs": [],
   "source": [
    "X_train, y_train = preprocessor(X_train, y_train)\n",
    "X_dev, y_dev = preprocessor(X_dev, y_dev)"
   ]
  },
  {
   "cell_type": "code",
   "execution_count": 16,
   "metadata": {},
   "outputs": [],
   "source": [
    "# Add-in for data: Data Augmentator\n",
    "img_generator = ImageDataGenerator(\n",
    "    featurewise_center=False,  # set input mean to 0 over the dataset\n",
    "    samplewise_center=False,  # set each sample mean to 0\n",
    "    featurewise_std_normalization=False,  # divide inputs by std of the dataset\n",
    "    samplewise_std_normalization=False,  # divide each input by its std\n",
    "    zca_whitening=False,  # apply ZCA whitening\n",
    "    rotation_range=10,  # randomly rotate images in the range (degrees, 0 to 180)\n",
    "    zoom_range = 0.1, # Randomly zoom image \n",
    "    width_shift_range=0.1,  # randomly shift images horizontally (fraction of total width)\n",
    "    height_shift_range=0.1,  # randomly shift images vertically (fraction of total height)\n",
    "    horizontal_flip=False,  # randomly flip images\n",
    "    vertical_flip=False  # randomly flip images\n",
    ")\n",
    "BATCH_SIZE = 64"
   ]
  },
  {
   "cell_type": "markdown",
   "metadata": {},
   "source": [
    "# Model"
   ]
  },
  {
   "cell_type": "code",
   "execution_count": 19,
   "metadata": {},
   "outputs": [],
   "source": [
    "def getModel():\n",
    "    \n",
    "    from tensorflow.keras import Sequential, Input\n",
    "    from tensorflow.keras.layers import Conv2D, MaxPooling2D, Flatten, Dense, BatchNormalization, Dropout\n",
    "    from tensorflow.keras.optimizers import Adam, RMSprop\n",
    "    from tensorflow.keras.models import Model    \n",
    "\n",
    "    x_in = Input(shape=INPUT_SHAPE)\n",
    "    x = Conv2D(32, (5, 5), activation='relu', kernel_initializer='he_uniform', padding='same')(x_in)\n",
    "    x = Conv2D(32, (5, 5), activation='relu', kernel_initializer='he_uniform', padding='same')(x)\n",
    "    x = MaxPooling2D((2, 2))(x)\n",
    "    x = BatchNormalization()(x)\n",
    "    x = Dropout(0.25)(x)\n",
    "    \n",
    "    x = Conv2D(64, (3, 3), activation='relu', kernel_initializer='he_uniform', padding='same')(x)\n",
    "    x = Conv2D(64, (3, 3), activation='relu', kernel_initializer='he_uniform', padding='same')(x)\n",
    "    x = MaxPooling2D((2, 2))(x)\n",
    "    x = BatchNormalization()(x)\n",
    "    x = Dropout(0.25)(x)\n",
    "    \n",
    "    x = Flatten()(x)\n",
    "    x = Dense(256, activation='relu', kernel_initializer='he_uniform')(x)\n",
    "    x = Dropout(0.5)(x)\n",
    "    x_out = Dense(10, activation='softmax')(x)\n",
    "    \n",
    "    model = Model(inputs = x_in, outputs = x_out)\n",
    "\n",
    "    optimizer = Adam()\n",
    "    model.compile(optimizer=optimizer, loss='SparseCategoricalCrossentropy', metrics=['acc'])\n",
    "    print(model.summary())\n",
    "    \n",
    "    return model"
   ]
  },
  {
   "cell_type": "code",
   "execution_count": 20,
   "metadata": {},
   "outputs": [
    {
     "name": "stdout",
     "output_type": "stream",
     "text": [
      "Model: \"model\"\n",
      "_________________________________________________________________\n",
      "Layer (type)                 Output Shape              Param #   \n",
      "=================================================================\n",
      "input_2 (InputLayer)         [(None, 28, 28, 1)]       0         \n",
      "_________________________________________________________________\n",
      "conv2d_4 (Conv2D)            (None, 28, 28, 32)        832       \n",
      "_________________________________________________________________\n",
      "conv2d_5 (Conv2D)            (None, 28, 28, 32)        25632     \n",
      "_________________________________________________________________\n",
      "max_pooling2d_2 (MaxPooling2 (None, 14, 14, 32)        0         \n",
      "_________________________________________________________________\n",
      "batch_normalization_2 (Batch (None, 14, 14, 32)        128       \n",
      "_________________________________________________________________\n",
      "dropout_3 (Dropout)          (None, 14, 14, 32)        0         \n",
      "_________________________________________________________________\n",
      "conv2d_6 (Conv2D)            (None, 14, 14, 64)        18496     \n",
      "_________________________________________________________________\n",
      "conv2d_7 (Conv2D)            (None, 14, 14, 64)        36928     \n",
      "_________________________________________________________________\n",
      "max_pooling2d_3 (MaxPooling2 (None, 7, 7, 64)          0         \n",
      "_________________________________________________________________\n",
      "batch_normalization_3 (Batch (None, 7, 7, 64)          256       \n",
      "_________________________________________________________________\n",
      "dropout_4 (Dropout)          (None, 7, 7, 64)          0         \n",
      "_________________________________________________________________\n",
      "flatten_1 (Flatten)          (None, 3136)              0         \n",
      "_________________________________________________________________\n",
      "dense_2 (Dense)              (None, 256)               803072    \n",
      "_________________________________________________________________\n",
      "dropout_5 (Dropout)          (None, 256)               0         \n",
      "_________________________________________________________________\n",
      "dense_3 (Dense)              (None, 10)                2570      \n",
      "=================================================================\n",
      "Total params: 887,914\n",
      "Trainable params: 887,722\n",
      "Non-trainable params: 192\n",
      "_________________________________________________________________\n",
      "None\n",
      "Epoch 1/30\n"
     ]
    },
    {
     "name": "stderr",
     "output_type": "stream",
     "text": [
      "C:\\Users\\kyala\\AppData\\Roaming\\Python\\Python38\\site-packages\\tensorflow\\python\\keras\\engine\\training.py:1844: UserWarning: `Model.fit_generator` is deprecated and will be removed in a future version. Please use `Model.fit`, which supports generators.\n",
      "  warnings.warn('`Model.fit_generator` is deprecated and '\n"
     ]
    },
    {
     "name": "stdout",
     "output_type": "stream",
     "text": [
      "531/531 - 20s - loss: 0.4032 - acc: 0.8747 - val_loss: 0.1155 - val_acc: 0.9672\n",
      "Epoch 2/30\n",
      "531/531 - 6s - loss: 0.1546 - acc: 0.9544 - val_loss: 0.0733 - val_acc: 0.9778\n",
      "Epoch 3/30\n",
      "531/531 - 6s - loss: 0.1187 - acc: 0.9662 - val_loss: 0.0504 - val_acc: 0.9860\n",
      "Epoch 4/30\n",
      "531/531 - 6s - loss: 0.1038 - acc: 0.9710 - val_loss: 0.0533 - val_acc: 0.9828\n",
      "Epoch 5/30\n",
      "531/531 - 6s - loss: 0.0885 - acc: 0.9743 - val_loss: 0.0449 - val_acc: 0.9881\n",
      "Epoch 6/30\n",
      "531/531 - 6s - loss: 0.0817 - acc: 0.9762 - val_loss: 0.0470 - val_acc: 0.9870\n",
      "Epoch 7/30\n",
      "531/531 - 6s - loss: 0.0794 - acc: 0.9767 - val_loss: 0.0469 - val_acc: 0.9870\n",
      "Epoch 8/30\n",
      "531/531 - 6s - loss: 0.0695 - acc: 0.9798 - val_loss: 0.0578 - val_acc: 0.9847\n",
      "Epoch 9/30\n",
      "531/531 - 6s - loss: 0.0748 - acc: 0.9793 - val_loss: 0.0407 - val_acc: 0.9905\n",
      "Epoch 10/30\n",
      "531/531 - 6s - loss: 0.0629 - acc: 0.9810 - val_loss: 0.0402 - val_acc: 0.9915\n",
      "Epoch 11/30\n",
      "531/531 - 6s - loss: 0.0591 - acc: 0.9828 - val_loss: 0.0361 - val_acc: 0.9902\n",
      "Epoch 12/30\n",
      "531/531 - 6s - loss: 0.0573 - acc: 0.9841 - val_loss: 0.0332 - val_acc: 0.9915\n",
      "Epoch 13/30\n",
      "531/531 - 6s - loss: 0.0575 - acc: 0.9827 - val_loss: 0.0392 - val_acc: 0.9886\n",
      "Epoch 14/30\n",
      "531/531 - 6s - loss: 0.0558 - acc: 0.9847 - val_loss: 0.0304 - val_acc: 0.9926\n",
      "Epoch 15/30\n",
      "531/531 - 6s - loss: 0.0527 - acc: 0.9849 - val_loss: 0.0378 - val_acc: 0.9902\n",
      "Epoch 16/30\n",
      "531/531 - 6s - loss: 0.0499 - acc: 0.9850 - val_loss: 0.0339 - val_acc: 0.9915\n",
      "Epoch 17/30\n",
      "531/531 - 6s - loss: 0.0494 - acc: 0.9860 - val_loss: 0.0420 - val_acc: 0.9899\n",
      "Epoch 18/30\n",
      "531/531 - 6s - loss: 0.0473 - acc: 0.9866 - val_loss: 0.0381 - val_acc: 0.9926\n",
      "Epoch 19/30\n",
      "531/531 - 6s - loss: 0.0480 - acc: 0.9870 - val_loss: 0.0383 - val_acc: 0.9929\n",
      "Epoch 20/30\n",
      "531/531 - 6s - loss: 0.0421 - acc: 0.9879 - val_loss: 0.0369 - val_acc: 0.9926\n",
      "Epoch 21/30\n",
      "531/531 - 6s - loss: 0.0432 - acc: 0.9880 - val_loss: 0.0287 - val_acc: 0.9926\n",
      "Epoch 22/30\n",
      "531/531 - 6s - loss: 0.0378 - acc: 0.9890 - val_loss: 0.0332 - val_acc: 0.9923\n",
      "Epoch 23/30\n",
      "531/531 - 6s - loss: 0.0403 - acc: 0.9885 - val_loss: 0.0375 - val_acc: 0.9929\n",
      "Epoch 24/30\n",
      "531/531 - 6s - loss: 0.0415 - acc: 0.9874 - val_loss: 0.0278 - val_acc: 0.9939\n",
      "Epoch 25/30\n",
      "531/531 - 6s - loss: 0.0411 - acc: 0.9881 - val_loss: 0.0466 - val_acc: 0.9918\n",
      "Epoch 26/30\n",
      "531/531 - 6s - loss: 0.0389 - acc: 0.9891 - val_loss: 0.0431 - val_acc: 0.9915\n",
      "Epoch 27/30\n",
      "531/531 - 6s - loss: 0.0375 - acc: 0.9893 - val_loss: 0.0392 - val_acc: 0.9915\n",
      "Epoch 28/30\n",
      "531/531 - 6s - loss: 0.0365 - acc: 0.9895 - val_loss: 0.0355 - val_acc: 0.9921\n",
      "Epoch 29/30\n",
      "531/531 - 6s - loss: 0.0353 - acc: 0.9895 - val_loss: 0.0360 - val_acc: 0.9915\n",
      "Epoch 30/30\n",
      "531/531 - 6s - loss: 0.0350 - acc: 0.9899 - val_loss: 0.0367 - val_acc: 0.9931\n",
      "Wall time: 3min 18s\n"
     ]
    }
   ],
   "source": [
    "%%time\n",
    "\n",
    "model = getModel()\n",
    "history = model.fit_generator(img_generator.flow(X_train, y_train, batch_size = BATCH_SIZE)\n",
    "                              , epochs=30, validation_data=(X_dev, y_dev), verbose=2\n",
    "                              , steps_per_epoch=X_train.shape[0] // BATCH_SIZE\n",
    "                             )"
   ]
  },
  {
   "cell_type": "code",
   "execution_count": 21,
   "metadata": {},
   "outputs": [
    {
     "data": {
      "image/png": "[encoded data removed]",
      "text/plain": [
       "<Figure size 648x576 with 1 Axes>"
      ]
     },
     "metadata": {
      "needs_background": "light"
     },
     "output_type": "display_data"
    },
    {
     "data": {
      "image/png": "[encoded data removed]",
      "text/plain": [
       "<Figure size 648x576 with 1 Axes>"
      ]
     },
     "metadata": {
      "needs_background": "light"
     },
     "output_type": "display_data"
    }
   ],
   "source": [
    "def plot_history(history):\n",
    "    hist = history.history\n",
    "    for key in ['loss', 'acc']:\n",
    "        plt.figure(figsize=(9, 8))\n",
    "        plt.xlabel('epoch')\n",
    "        plt.ylabel(key)\n",
    "        plt.plot(range(len(hist[key])), hist[key], label = key)\n",
    "        plt.plot(range(len(hist['val_' + key])), hist['val_' + key], label = 'val_' + key)\n",
    "        plt.legend()\n",
    "    plt.show()\n",
    "\n",
    "%matplotlib inline\n",
    "plot_history(history)"
   ]
  },
  {
   "cell_type": "markdown",
   "metadata": {},
   "source": [
    "# Model Evaluation"
   ]
  },
  {
   "cell_type": "code",
   "execution_count": 22,
   "metadata": {},
   "outputs": [
    {
     "name": "stdout",
     "output_type": "stream",
     "text": [
      "132/132 [==============================] - 0s 3ms/step - loss: 0.0366 - acc: 0.9940\n",
      "Test data: Loss = 0.03663713485002518, Accuracy = 0.9940476417541504\n",
      "Right Prediction: 4175.000095367432, Wrong Prediction: 24.99990463256836\n"
     ]
    }
   ],
   "source": [
    "X_test, y_test = preprocessor(X_test, y_test)\n",
    "\n",
    "eval = model.evaluate(X_test, y_test)\n",
    "print('Test data: Loss = {}, Accuracy = {}'.format(eval[0], eval[1]))\n",
    "print('Right Prediction: {}, Wrong Prediction: {}'.format(eval[1]*n_test, (1.0-eval[1])*n_test))"
   ]
  },
  {
   "cell_type": "code",
   "execution_count": 23,
   "metadata": {},
   "outputs": [
    {
     "name": "stdout",
     "output_type": "stream",
     "text": [
      "Wall time: 270 ms\n"
     ]
    }
   ],
   "source": [
    "%%time\n",
    "\n",
    "test_labels = y_test\n",
    "test_pred = model.predict(X_test).argmax(axis=1)"
   ]
  },
  {
   "cell_type": "code",
   "execution_count": 24,
   "metadata": {},
   "outputs": [
    {
     "data": {
      "text/plain": [
       "<matplotlib.axes._subplots.AxesSubplot at 0x2c09857ae50>"
      ]
     },
     "execution_count": 24,
     "metadata": {},
     "output_type": "execute_result"
    },
    {
     "data": {
      "image/png": "[encoded data removed]",
      "text/plain": [
       "<Figure size 648x576 with 2 Axes>"
      ]
     },
     "metadata": {
      "needs_background": "light"
     },
     "output_type": "display_data"
    }
   ],
   "source": [
    "cm = sklearn.metrics.confusion_matrix(test_labels, test_pred)\n",
    "fig = plt.figure(figsize=(9, 8))\n",
    "sns.heatmap(pd.DataFrame(cm, range(10), range(10)), annot=True, fmt='d')"
   ]
  },
  {
   "cell_type": "code",
   "execution_count": 25,
   "metadata": {},
   "outputs": [
    {
     "data": {
      "text/plain": [
       "Text(0.5, 1.0, 'pred: 3, real: 9')"
      ]
     },
     "execution_count": 25,
     "metadata": {},
     "output_type": "execute_result"
    },
    {
     "data": {
      "image/png": "[encoded data removed]",
      "text/plain": [
       "<Figure size 432x288 with 1 Axes>"
      ]
     },
     "metadata": {
      "needs_background": "light"
     },
     "output_type": "display_data"
    }
   ],
   "source": [
    "iimg = np.where(test_labels!=test_pred)[0][3]\n",
    "img, label = X_test[iimg], y_test[iimg]\n",
    "\n",
    "plt.imshow(img.squeeze() * 255.0)\n",
    "plt.title('pred: {}, real: {}'.format(test_pred[iimg],test_labels[iimg]))"
   ]
  },
  {
   "cell_type": "markdown",
   "metadata": {},
   "source": [
    "# Use test.csv for submission"
   ]
  },
  {
   "cell_type": "code",
   "execution_count": 26,
   "metadata": {},
   "outputs": [
    {
     "name": "stdout",
     "output_type": "stream",
     "text": [
      "2021-05-03 00:42:04.751699 Importing submission img done. X'shape: (28000, 28, 28, 1)\n"
     ]
    }
   ],
   "source": [
    "df_subm = pd.read_csv(os.path.join(dataFolder, 'test.csv'))\n",
    "X_subm = df_subm.values.reshape(df_subm.shape[0], img_rows, img_cols, 1)\n",
    "X_subm, _ = preprocessor(X_subm, None)\n",
    "print(dt.now(), 'Importing submission img done. X\\'shape: {}'.format(X_subm.shape))"
   ]
  },
  {
   "cell_type": "code",
   "execution_count": 27,
   "metadata": {},
   "outputs": [],
   "source": [
    "subm_pred = model.predict(X_subm).argmax(axis=1)\n",
    "df_to_subm = pd.DataFrame({'ImageId': range(1, df_subm.shape[0]+1), 'Label': subm_pred})\n",
    "df_to_subm.to_csv('Submission.csv', index=False)"
   ]
  },
  {
   "cell_type": "markdown",
   "metadata": {},
   "source": [
    "# Submission"
   ]
  },
  {
   "cell_type": "code",
   "execution_count": 31,
   "metadata": {},
   "outputs": [
    {
     "name": "stdout",
     "output_type": "stream",
     "text": [
      "Successfully submitted to Digit Recognizer"
     ]
    },
    {
     "name": "stderr",
     "output_type": "stream",
     "text": [
      "\n",
      "  0%|          | 0.00/235k [00:00<?, ?B/s]\n",
      "100%|██████████| 235k/235k [00:03<00:00, 69.3kB/s]\n"
     ]
    },
    {
     "name": "stdout",
     "output_type": "stream",
     "text": [
      "\n"
     ]
    }
   ],
   "source": [
    "!kaggle competitions submit digit-recognizer -f .\\Submission.csv -m \"Re-run in my new pc\""
   ]
  },
  {
   "cell_type": "markdown",
   "metadata": {},
   "source": [
    "Remove the raw data and Closing file"
   ]
  },
  {
   "cell_type": "code",
   "execution_count": 30,
   "metadata": {},
   "outputs": [],
   "source": [
    "import os, shutil\n",
    "\n",
    "shutil.rmtree('digit-recognizer/')\n",
    "os.remove('digit-recognizer.zip')"
   ]
  }
 ],
 "metadata": {
  "kernelspec": {
   "display_name": "Python 3",
   "language": "python",
   "name": "python3"
  },
  "language_info": {
   "codemirror_mode": {
    "name": "ipython",
    "version": 3
   },
   "file_extension": ".py",
   "mimetype": "text/x-python",
   "name": "python",
   "nbconvert_exporter": "python",
   "pygments_lexer": "ipython3",
   "version": "3.8.3"
  }
 },
 "nbformat": 4,
 "nbformat_minor": 4
}
